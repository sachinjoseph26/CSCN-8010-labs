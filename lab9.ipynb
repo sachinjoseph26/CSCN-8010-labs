{
 "cells": [
  {
   "cell_type": "markdown",
   "metadata": {},
   "source": [
    "# Introduction"
   ]
  },
  {
   "cell_type": "markdown",
   "metadata": {},
   "source": [
    "* Aim of this notebook is to run a good EDA on fMNIST dataset, train a neural network using Tensorflow."
   ]
  },
  {
   "cell_type": "markdown",
   "metadata": {},
   "source": [
    "# Obtaining the Data"
   ]
  },
  {
   "cell_type": "markdown",
   "metadata": {},
   "source": [
    "## Load the dataset & required libraries"
   ]
  },
  {
   "cell_type": "code",
   "execution_count": 199,
   "metadata": {},
   "outputs": [],
   "source": [
    "from tensorflow import keras\n",
    "from tensorflow.keras import layers\n",
    "from keras.callbacks import ModelCheckpoint\n",
    "import tensorflow as tf\n",
    "import numpy as np\n",
    "import matplotlib.pyplot as plt\n",
    "import pandas as pd\n",
    "\n",
    "# Load the data\n",
    "df_training = pd.read_csv('data/fashion-mnist_train.csv')\n",
    "df_testing = pd.read_csv('data/fashion-mnist_test.csv')"
   ]
  },
  {
   "cell_type": "markdown",
   "metadata": {},
   "source": [
    "## Understand the dataset deeply"
   ]
  },
  {
   "cell_type": "code",
   "execution_count": 200,
   "metadata": {},
   "outputs": [
    {
     "data": {
      "text/html": [
       "<div>\n",
       "<style scoped>\n",
       "    .dataframe tbody tr th:only-of-type {\n",
       "        vertical-align: middle;\n",
       "    }\n",
       "\n",
       "    .dataframe tbody tr th {\n",
       "        vertical-align: top;\n",
       "    }\n",
       "\n",
       "    .dataframe thead th {\n",
       "        text-align: right;\n",
       "    }\n",
       "</style>\n",
       "<table border=\"1\" class=\"dataframe\">\n",
       "  <thead>\n",
       "    <tr style=\"text-align: right;\">\n",
       "      <th></th>\n",
       "      <th>label</th>\n",
       "      <th>pixel1</th>\n",
       "      <th>pixel2</th>\n",
       "      <th>pixel3</th>\n",
       "      <th>pixel4</th>\n",
       "      <th>pixel5</th>\n",
       "      <th>pixel6</th>\n",
       "      <th>pixel7</th>\n",
       "      <th>pixel8</th>\n",
       "      <th>pixel9</th>\n",
       "      <th>...</th>\n",
       "      <th>pixel775</th>\n",
       "      <th>pixel776</th>\n",
       "      <th>pixel777</th>\n",
       "      <th>pixel778</th>\n",
       "      <th>pixel779</th>\n",
       "      <th>pixel780</th>\n",
       "      <th>pixel781</th>\n",
       "      <th>pixel782</th>\n",
       "      <th>pixel783</th>\n",
       "      <th>pixel784</th>\n",
       "    </tr>\n",
       "  </thead>\n",
       "  <tbody>\n",
       "    <tr>\n",
       "      <th>0</th>\n",
       "      <td>2</td>\n",
       "      <td>0</td>\n",
       "      <td>0</td>\n",
       "      <td>0</td>\n",
       "      <td>0</td>\n",
       "      <td>0</td>\n",
       "      <td>0</td>\n",
       "      <td>0</td>\n",
       "      <td>0</td>\n",
       "      <td>0</td>\n",
       "      <td>...</td>\n",
       "      <td>0</td>\n",
       "      <td>0</td>\n",
       "      <td>0</td>\n",
       "      <td>0</td>\n",
       "      <td>0</td>\n",
       "      <td>0</td>\n",
       "      <td>0</td>\n",
       "      <td>0</td>\n",
       "      <td>0</td>\n",
       "      <td>0</td>\n",
       "    </tr>\n",
       "    <tr>\n",
       "      <th>1</th>\n",
       "      <td>9</td>\n",
       "      <td>0</td>\n",
       "      <td>0</td>\n",
       "      <td>0</td>\n",
       "      <td>0</td>\n",
       "      <td>0</td>\n",
       "      <td>0</td>\n",
       "      <td>0</td>\n",
       "      <td>0</td>\n",
       "      <td>0</td>\n",
       "      <td>...</td>\n",
       "      <td>0</td>\n",
       "      <td>0</td>\n",
       "      <td>0</td>\n",
       "      <td>0</td>\n",
       "      <td>0</td>\n",
       "      <td>0</td>\n",
       "      <td>0</td>\n",
       "      <td>0</td>\n",
       "      <td>0</td>\n",
       "      <td>0</td>\n",
       "    </tr>\n",
       "    <tr>\n",
       "      <th>2</th>\n",
       "      <td>6</td>\n",
       "      <td>0</td>\n",
       "      <td>0</td>\n",
       "      <td>0</td>\n",
       "      <td>0</td>\n",
       "      <td>0</td>\n",
       "      <td>0</td>\n",
       "      <td>0</td>\n",
       "      <td>5</td>\n",
       "      <td>0</td>\n",
       "      <td>...</td>\n",
       "      <td>0</td>\n",
       "      <td>0</td>\n",
       "      <td>0</td>\n",
       "      <td>30</td>\n",
       "      <td>43</td>\n",
       "      <td>0</td>\n",
       "      <td>0</td>\n",
       "      <td>0</td>\n",
       "      <td>0</td>\n",
       "      <td>0</td>\n",
       "    </tr>\n",
       "    <tr>\n",
       "      <th>3</th>\n",
       "      <td>0</td>\n",
       "      <td>0</td>\n",
       "      <td>0</td>\n",
       "      <td>0</td>\n",
       "      <td>1</td>\n",
       "      <td>2</td>\n",
       "      <td>0</td>\n",
       "      <td>0</td>\n",
       "      <td>0</td>\n",
       "      <td>0</td>\n",
       "      <td>...</td>\n",
       "      <td>3</td>\n",
       "      <td>0</td>\n",
       "      <td>0</td>\n",
       "      <td>0</td>\n",
       "      <td>0</td>\n",
       "      <td>1</td>\n",
       "      <td>0</td>\n",
       "      <td>0</td>\n",
       "      <td>0</td>\n",
       "      <td>0</td>\n",
       "    </tr>\n",
       "    <tr>\n",
       "      <th>4</th>\n",
       "      <td>3</td>\n",
       "      <td>0</td>\n",
       "      <td>0</td>\n",
       "      <td>0</td>\n",
       "      <td>0</td>\n",
       "      <td>0</td>\n",
       "      <td>0</td>\n",
       "      <td>0</td>\n",
       "      <td>0</td>\n",
       "      <td>0</td>\n",
       "      <td>...</td>\n",
       "      <td>0</td>\n",
       "      <td>0</td>\n",
       "      <td>0</td>\n",
       "      <td>0</td>\n",
       "      <td>0</td>\n",
       "      <td>0</td>\n",
       "      <td>0</td>\n",
       "      <td>0</td>\n",
       "      <td>0</td>\n",
       "      <td>0</td>\n",
       "    </tr>\n",
       "  </tbody>\n",
       "</table>\n",
       "<p>5 rows × 785 columns</p>\n",
       "</div>"
      ],
      "text/plain": [
       "   label  pixel1  pixel2  pixel3  pixel4  pixel5  pixel6  pixel7  pixel8  \\\n",
       "0      2       0       0       0       0       0       0       0       0   \n",
       "1      9       0       0       0       0       0       0       0       0   \n",
       "2      6       0       0       0       0       0       0       0       5   \n",
       "3      0       0       0       0       1       2       0       0       0   \n",
       "4      3       0       0       0       0       0       0       0       0   \n",
       "\n",
       "   pixel9  ...  pixel775  pixel776  pixel777  pixel778  pixel779  pixel780  \\\n",
       "0       0  ...         0         0         0         0         0         0   \n",
       "1       0  ...         0         0         0         0         0         0   \n",
       "2       0  ...         0         0         0        30        43         0   \n",
       "3       0  ...         3         0         0         0         0         1   \n",
       "4       0  ...         0         0         0         0         0         0   \n",
       "\n",
       "   pixel781  pixel782  pixel783  pixel784  \n",
       "0         0         0         0         0  \n",
       "1         0         0         0         0  \n",
       "2         0         0         0         0  \n",
       "3         0         0         0         0  \n",
       "4         0         0         0         0  \n",
       "\n",
       "[5 rows x 785 columns]"
      ]
     },
     "execution_count": 200,
     "metadata": {},
     "output_type": "execute_result"
    }
   ],
   "source": [
    "df_training.head()"
   ]
  },
  {
   "cell_type": "markdown",
   "metadata": {},
   "source": [
    "* Each row is a separate image\n",
    "* Column 1 is the class label.\n",
    "* Remaining columns are pixel numbers (784 total).\n",
    "* Each value is the darkness of the pixel (1 to 255)"
   ]
  },
  {
   "cell_type": "code",
   "execution_count": 201,
   "metadata": {},
   "outputs": [
    {
     "data": {
      "text/plain": [
       "[0, 1, 2, 3, 4, 5, 6, 7, 8, 9]"
      ]
     },
     "execution_count": 201,
     "metadata": {},
     "output_type": "execute_result"
    }
   ],
   "source": [
    "# unique labels\n",
    "labels = sorted(df_training.label.unique().tolist())\n",
    "labels"
   ]
  },
  {
   "cell_type": "markdown",
   "metadata": {},
   "source": [
    "**Each training and test example is assigned to one of the following labels:**\n",
    "\n",
    "| Label | Category    |\n",
    "|-------|-------------|\n",
    "| 0     | T-shirt/top |\n",
    "| 1     | Trouser     |\n",
    "| 2     | Pullover    |\n",
    "| 3     | Dress       |\n",
    "| 4     | Coat        |\n",
    "| 5     | Sandal      |\n",
    "| 6     | Shirt       |\n",
    "| 7     | Sneaker     |\n",
    "| 8     | Bag         |\n",
    "| 9     | Ankle boot  |\n",
    "\n",
    "\n"
   ]
  },
  {
   "cell_type": "markdown",
   "metadata": {},
   "source": [
    "# Data Preprocessing"
   ]
  },
  {
   "cell_type": "markdown",
   "metadata": {},
   "source": [
    "## Numpy array & Split Data "
   ]
  },
  {
   "cell_type": "code",
   "execution_count": 202,
   "metadata": {},
   "outputs": [
    {
     "name": "stdout",
     "output_type": "stream",
     "text": [
      "Image DType: <class 'numpy.ndarray'>\n",
      "Image Element DType: <class 'numpy.int64'>\n",
      "Label Element DType: <class 'numpy.int64'>\n",
      "**Shapes:**\n",
      "Train Data:\n",
      "Images: (60000, 784)\n",
      "Labels: (60000,)\n",
      "Test Data:\n",
      "Images: (10000, 784)\n",
      "Labels: (10000,)\n",
      "Image Data Range:\n",
      "Min: 0\n",
      "Max: 255\n"
     ]
    }
   ],
   "source": [
    "# Conveting to numpy arrays\n",
    "\n",
    "df_train = df_training.to_numpy()\n",
    "df_test = df_testing.to_numpy()\n",
    "\n",
    "# Split the data into features and labels\n",
    "\n",
    "train_labels  = df_train[:,0]\n",
    "train_features = df_train[:,1:]\n",
    "test_labels  = df_test[:,0]\n",
    "test_features = df_test[:,1:]\n",
    "\n",
    "print(f'Image DType: {type(train_features)}')\n",
    "print(f'Image Element DType: {type(train_features[0,0])}')\n",
    "print(f'Label Element DType: {type(train_labels[0])}')\n",
    "print('**Shapes:**')\n",
    "print('Train Data:')\n",
    "print(f'Images: {train_features.shape}')\n",
    "print(f'Labels: {train_labels.shape}')\n",
    "print('Test Data:')  \n",
    "print(f'Images: {test_features.shape}')\n",
    "print(f'Labels: {test_labels.shape}')\n",
    "print('Image Data Range:')\n",
    "print(f'Min: {train_features.min()}')\n",
    "print(f'Max: {train_features.max()}')"
   ]
  },
  {
   "cell_type": "markdown",
   "metadata": {},
   "source": [
    "## Reshaping & Normalizing the data"
   ]
  },
  {
   "cell_type": "code",
   "execution_count": 203,
   "metadata": {},
   "outputs": [],
   "source": [
    "# reshping the data\n",
    "train_images = train_features.reshape((60000, 28 * 28))  \n",
    "test_images = test_features.reshape((10000, 28 * 28))\n",
    "\n",
    "# Normalize the data\n",
    "train_images = train_images.astype(\"float32\") / 255  \n",
    "test_images = test_images.astype(\"float32\") / 255"
   ]
  },
  {
   "cell_type": "code",
   "execution_count": 204,
   "metadata": {},
   "outputs": [
    {
     "name": "stdout",
     "output_type": "stream",
     "text": [
      "0.0\n",
      "1.0\n",
      "(60000, 784)\n",
      "(784,)\n"
     ]
    }
   ],
   "source": [
    "# Display the min, max, and shape of the training images\n",
    "\n",
    "print(train_images.min())\n",
    "print(train_images.max())\n",
    "print(train_images.shape)\n",
    "print(train_images[0].shape)"
   ]
  },
  {
   "cell_type": "markdown",
   "metadata": {},
   "source": [
    "# Exploratory Data Analysis"
   ]
  },
  {
   "cell_type": "markdown",
   "metadata": {},
   "source": [
    "## First 10 Images "
   ]
  },
  {
   "cell_type": "code",
   "execution_count": 205,
   "metadata": {},
   "outputs": [
    {
     "data": {
      "image/png": "[encoded data removed]",
      "text/plain": [
       "<Figure size 1000x1000 with 10 Axes>"
      ]
     },
     "metadata": {},
     "output_type": "display_data"
    }
   ],
   "source": [
    "label_vis = ['T-shirt/top', 'Trouser', 'Pullover', 'Dress', 'Coat', 'Sandal', 'Shirt', 'Sneaker', 'Bag', 'Ankle boot']\n",
    "fig, axes = plt.subplots(1, 10, figsize=(10, 10))\n",
    "for i, ax in enumerate(axes.flat):\n",
    "    ax.imshow(train_images[i].reshape(28, 28), cmap='Blues')\n",
    "    ax.set_title(label_vis[train_labels[i]])\n",
    "    ax.axis('off')\n",
    "plt.show()"
   ]
  },
  {
   "cell_type": "markdown",
   "metadata": {},
   "source": [
    "* Visualization shows the first 10 images with their labels from the training set. Each image is a 28x28 bluescale representation of a fashion item, such as a shoe, bag, or piece of clothing."
   ]
  },
  {
   "cell_type": "markdown",
   "metadata": {},
   "source": [
    "## Understanding the class distribution : Frequency "
   ]
  },
  {
   "cell_type": "code",
   "execution_count": 206,
   "metadata": {},
   "outputs": [
    {
     "data": {
      "image/png": "[encoded data removed]",
      "text/plain": [
       "<Figure size 1000x600 with 1 Axes>"
      ]
     },
     "metadata": {},
     "output_type": "display_data"
    },
    {
     "data": {
      "text/plain": [
       "array([0, 1, 2, 3, 4, 5, 6, 7, 8, 9], dtype=int64)"
      ]
     },
     "metadata": {},
     "output_type": "display_data"
    },
    {
     "data": {
      "text/plain": [
       "array([6000, 6000, 6000, 6000, 6000, 6000, 6000, 6000, 6000, 6000],\n",
       "      dtype=int64)"
      ]
     },
     "metadata": {},
     "output_type": "display_data"
    }
   ],
   "source": [
    "labels, counts = np.unique(df_training['label'], return_counts=True)\n",
    "plt.figure(figsize=(10, 6))\n",
    "plt.bar(labels, counts)\n",
    "plt.title('Distribution of Labels')\n",
    "plt.xlabel('Label')\n",
    "plt.ylabel('Count')\n",
    "plt.xticks(labels, label_vis)  \n",
    "plt.show()\n",
    "display(labels,counts)"
   ]
  },
  {
   "cell_type": "markdown",
   "metadata": {},
   "source": [
    "* Visualization displays the distribution of labels in the training set. The distribution is relatively uniform, indicating a balanced dataset which is beneficial for training a model."
   ]
  },
  {
   "cell_type": "markdown",
   "metadata": {},
   "source": [
    "# Creating the Model"
   ]
  },
  {
   "cell_type": "code",
   "execution_count": null,
   "metadata": {},
   "outputs": [],
   "source": [
    "model = keras.Sequential([\n",
    "    layers.Dense(512, activation=\"relu\"),\n",
    "    layers.Dense(10, activation=\"softmax\")\n",
    "])"
   ]
  },
  {
   "cell_type": "markdown",
   "metadata": {},
   "source": [
    "# Compile the model"
   ]
  },
  {
   "cell_type": "code",
   "execution_count": null,
   "metadata": {},
   "outputs": [],
   "source": [
    "model.compile(optimizer=\"rmsprop\",  \n",
    "              loss=\"sparse_categorical_crossentropy\",\n",
    "              metrics=[\"accuracy\"])"
   ]
  },
  {
   "cell_type": "markdown",
   "metadata": {},
   "source": [
    "# Train the model"
   ]
  },
  {
   "cell_type": "code",
   "execution_count": null,
   "metadata": {},
   "outputs": [
    {
     "name": "stdout",
     "output_type": "stream",
     "text": [
      "Epoch 1/5\n",
      "469/469 [==============================] - 3s 5ms/step - loss: 0.5598 - accuracy: 0.8004\n",
      "Epoch 2/5\n",
      "469/469 [==============================] - 3s 6ms/step - loss: 0.3885 - accuracy: 0.8581\n",
      "Epoch 3/5\n",
      "469/469 [==============================] - 3s 7ms/step - loss: 0.3442 - accuracy: 0.8731\n",
      "Epoch 4/5\n",
      "469/469 [==============================] - 2s 5ms/step - loss: 0.3178 - accuracy: 0.8829\n",
      "Epoch 5/5\n",
      "469/469 [==============================] - 3s 6ms/step - loss: 0.2989 - accuracy: 0.8893\n"
     ]
    },
    {
     "data": {
      "text/plain": [
       "<keras.callbacks.History at 0x1d584d085d0>"
      ]
     },
     "execution_count": 158,
     "metadata": {},
     "output_type": "execute_result"
    }
   ],
   "source": [
    "model.fit(train_images, train_labels, epochs=5, batch_size=128)"
   ]
  },
  {
   "cell_type": "markdown",
   "metadata": {},
   "source": [
    "# Model Evaluation with validation set"
   ]
  },
  {
   "cell_type": "markdown",
   "metadata": {},
   "source": [
    "## Accuracy"
   ]
  },
  {
   "cell_type": "code",
   "execution_count": 249,
   "metadata": {},
   "outputs": [
    {
     "name": "stdout",
     "output_type": "stream",
     "text": [
      "240/240 [==============================] - 0s 1ms/step\n",
      "[2 0 5 ... 5 3 3]\n",
      "Accuracy of the model is 0.894\n"
     ]
    }
   ],
   "source": [
    "from sklearn.model_selection import train_test_split\n",
    "from sklearn.metrics import accuracy_score\n",
    "\n",
    "# split the data into training and validation sets\n",
    "train_images, val_images, train_labels, val_labels = train_test_split(\n",
    "                            train_images, train_labels, \n",
    "                            test_size=0.2, random_state=42)\n",
    "\n",
    "# Make predictions\n",
    "y_pred_probs = model.predict(val_images)\n",
    "\n",
    "# Convert probabilities to class labels\n",
    "y_pred = np.argmax(y_pred_probs, axis=1)\n",
    "print(y_pred)\n",
    "# Calculate accuracy\n",
    "accuracy = accuracy_score(val_labels, y_pred)\n",
    "print(f'Accuracy of the model is {accuracy:.3f}')"
   ]
  },
  {
   "cell_type": "markdown",
   "metadata": {},
   "source": [
    "* Accuracy of the model is .894.\n",
    "* Accuracy of .897 means the model predictions are correct. That is approximately 89.7 % of the images in validation set is predicted correctly."
   ]
  },
  {
   "cell_type": "markdown",
   "metadata": {},
   "source": [
    "## Precison,Recall & F1 Score for each class"
   ]
  },
  {
   "cell_type": "code",
   "execution_count": null,
   "metadata": {},
   "outputs": [
    {
     "data": {
      "text/html": [
       "<div>\n",
       "<style scoped>\n",
       "    .dataframe tbody tr th:only-of-type {\n",
       "        vertical-align: middle;\n",
       "    }\n",
       "\n",
       "    .dataframe tbody tr th {\n",
       "        vertical-align: top;\n",
       "    }\n",
       "\n",
       "    .dataframe thead th {\n",
       "        text-align: right;\n",
       "    }\n",
       "</style>\n",
       "<table border=\"1\" class=\"dataframe\">\n",
       "  <thead>\n",
       "    <tr style=\"text-align: right;\">\n",
       "      <th></th>\n",
       "      <th>Class</th>\n",
       "      <th>Precision</th>\n",
       "      <th>Recall</th>\n",
       "      <th>F1-score</th>\n",
       "    </tr>\n",
       "  </thead>\n",
       "  <tbody>\n",
       "    <tr>\n",
       "      <th>0</th>\n",
       "      <td>0</td>\n",
       "      <td>0.861158</td>\n",
       "      <td>0.820617</td>\n",
       "      <td>0.840399</td>\n",
       "    </tr>\n",
       "    <tr>\n",
       "      <th>1</th>\n",
       "      <td>1</td>\n",
       "      <td>0.981293</td>\n",
       "      <td>0.982964</td>\n",
       "      <td>0.982128</td>\n",
       "    </tr>\n",
       "    <tr>\n",
       "      <th>2</th>\n",
       "      <td>2</td>\n",
       "      <td>0.885128</td>\n",
       "      <td>0.719167</td>\n",
       "      <td>0.793563</td>\n",
       "    </tr>\n",
       "    <tr>\n",
       "      <th>3</th>\n",
       "      <td>3</td>\n",
       "      <td>0.928934</td>\n",
       "      <td>0.884058</td>\n",
       "      <td>0.905941</td>\n",
       "    </tr>\n",
       "    <tr>\n",
       "      <th>4</th>\n",
       "      <td>4</td>\n",
       "      <td>0.784728</td>\n",
       "      <td>0.815190</td>\n",
       "      <td>0.799669</td>\n",
       "    </tr>\n",
       "    <tr>\n",
       "      <th>5</th>\n",
       "      <td>5</td>\n",
       "      <td>0.975716</td>\n",
       "      <td>0.985977</td>\n",
       "      <td>0.980820</td>\n",
       "    </tr>\n",
       "    <tr>\n",
       "      <th>6</th>\n",
       "      <td>6</td>\n",
       "      <td>0.656230</td>\n",
       "      <td>0.809332</td>\n",
       "      <td>0.724784</td>\n",
       "    </tr>\n",
       "    <tr>\n",
       "      <th>7</th>\n",
       "      <td>7</td>\n",
       "      <td>0.982609</td>\n",
       "      <td>0.923203</td>\n",
       "      <td>0.951980</td>\n",
       "    </tr>\n",
       "    <tr>\n",
       "      <th>8</th>\n",
       "      <td>8</td>\n",
       "      <td>0.980919</td>\n",
       "      <td>0.984334</td>\n",
       "      <td>0.982624</td>\n",
       "    </tr>\n",
       "    <tr>\n",
       "      <th>9</th>\n",
       "      <td>9</td>\n",
       "      <td>0.938727</td>\n",
       "      <td>0.987603</td>\n",
       "      <td>0.962545</td>\n",
       "    </tr>\n",
       "  </tbody>\n",
       "</table>\n",
       "</div>"
      ],
      "text/plain": [
       "   Class  Precision    Recall  F1-score\n",
       "0      0   0.861158  0.820617  0.840399\n",
       "1      1   0.981293  0.982964  0.982128\n",
       "2      2   0.885128  0.719167  0.793563\n",
       "3      3   0.928934  0.884058  0.905941\n",
       "4      4   0.784728  0.815190  0.799669\n",
       "5      5   0.975716  0.985977  0.980820\n",
       "6      6   0.656230  0.809332  0.724784\n",
       "7      7   0.982609  0.923203  0.951980\n",
       "8      8   0.980919  0.984334  0.982624\n",
       "9      9   0.938727  0.987603  0.962545"
      ]
     },
     "execution_count": 160,
     "metadata": {},
     "output_type": "execute_result"
    }
   ],
   "source": [
    "from sklearn.metrics import precision_score, recall_score, f1_score\n",
    "\n",
    "my_class = np.unique(train_labels)\n",
    "prec = []\n",
    "recall = []\n",
    "f1= []\n",
    "for i in my_class:\n",
    "    # Filter predictions and  labels for the current class\n",
    "    y_cls_pred = (y_pred == i)\n",
    "    y_cls_true = (val_labels == i)\n",
    "    \n",
    "    # Calculate precision, recall, and F1-score for the current class\n",
    "    precision_i = precision_score(y_cls_true, y_cls_pred)\n",
    "    recall_i = recall_score(y_cls_true, y_cls_pred)\n",
    "    f1_i = f1_score(y_cls_true, y_cls_pred)\n",
    "\n",
    "    # appending values to list\n",
    "\n",
    "    prec.append(precision_i)\n",
    "    recall.append(recall_i)\n",
    "    f1.append(f1_i)\n",
    "results = {'Class': my_class, 'Precision': prec, 'Recall': recall, 'F1-score': f1}\n",
    "df_results = pd.DataFrame(results)\n",
    "df_results"
   ]
  },
  {
   "cell_type": "markdown",
   "metadata": {},
   "source": [
    "* This table shows the  model is performaing well.\n",
    "* Class 1,5,7,8,9 has high precison,recall,f1.\n",
    "* This means the model is predicting correctly for theese classes than others.\n",
    "* Class 6 has the lowest precison & f1 score."
   ]
  },
  {
   "cell_type": "markdown",
   "metadata": {},
   "source": [
    "## Run on Test Set & Conclusions"
   ]
  },
  {
   "cell_type": "code",
   "execution_count": null,
   "metadata": {},
   "outputs": [
    {
     "name": "stdout",
     "output_type": "stream",
     "text": [
      "313/313 [==============================] - 1s 2ms/step - loss: 0.3373 - accuracy: 0.8750\n",
      "Test Set Accuracy is : 0.875\n"
     ]
    }
   ],
   "source": [
    "test_loss, test_acc = model.evaluate(test_images, test_labels)\n",
    "print(f\"Test Set Accuracy is : {test_acc:.3f}\")"
   ]
  },
  {
   "cell_type": "markdown",
   "metadata": {},
   "source": [
    "* Model shows a good accuracy in test data as well with a value of .875.\n",
    "* This means 87.5 % of the images in test dataset are predicting correctly."
   ]
  },
  {
   "cell_type": "markdown",
   "metadata": {},
   "source": [
    "# Increase the Precison for class '5'"
   ]
  },
  {
   "cell_type": "markdown",
   "metadata": {},
   "source": [
    "* To increase the precision for class '5', adjust the classification threshold for this class.\n",
    "* I am keeping high threshold value for class 5.\n",
    "* This will help to reduce the false positives."
   ]
  },
  {
   "cell_type": "code",
   "execution_count": null,
   "metadata": {},
   "outputs": [
    {
     "name": "stdout",
     "output_type": "stream",
     "text": [
      "313/313 [==============================] - 1s 2ms/step\n",
      "Adjusted Precision for class 5: 0.9596367305751766\n"
     ]
    }
   ],
   "source": [
    "# Predict probabilities for the test set\n",
    "class5_prob = model.predict(test_images)\n",
    "\n",
    "# higher threshold for class '5'\n",
    "threshold = 0.9 \n",
    "\n",
    "# Apply the new threshold for class '5'\n",
    "y_pred_adjusted = np.array([5 if prob[5] >= threshold else np.argmax(prob) for prob in class5_prob])\n",
    "\n",
    "precision = precision_score(test_labels, y_pred_adjusted, labels=[5], average='micro')\n",
    "print(f'Adjusted Precision for class 5: {precision}')"
   ]
  },
  {
   "cell_type": "markdown",
   "metadata": {},
   "source": [
    "# Increase the Recall for class '5'"
   ]
  },
  {
   "cell_type": "markdown",
   "metadata": {},
   "source": [
    "* To increase the recall for class '5' without changing the model or retraining, we have to adjust the prediction threshold. \n",
    "* By decreasing the threshold, make the criteria for predicting class '5' less stringent, which can increase recall at the cost of precision."
   ]
  },
  {
   "cell_type": "code",
   "execution_count": null,
   "metadata": {},
   "outputs": [
    {
     "name": "stdout",
     "output_type": "stream",
     "text": [
      "Adjusted Recall for class 5: 0.993\n"
     ]
    }
   ],
   "source": [
    "# lower threshold for class '5'\n",
    "threshold = 0.01  \n",
    "\n",
    "# Apply the new threshold for class '5'\n",
    "y_pred_adjusted = np.array([5 if prob[5] >= threshold else np.argmax(prob) for prob in class5_prob])\n",
    "\n",
    "from sklearn.metrics import recall_score\n",
    "recall = recall_score(test_labels, y_pred_adjusted, labels=[5], average='micro')\n",
    "print(f'Adjusted Recall for class 5: {recall}')"
   ]
  },
  {
   "cell_type": "markdown",
   "metadata": {},
   "source": [
    "# Lab 9\n",
    "## Three different models are below."
   ]
  },
  {
   "cell_type": "markdown",
   "metadata": {},
   "source": [
    "# Model 1\n",
    "## Creating & Compiling the Model\n",
    "\n",
    "## For this Model I am changing the number of input neurons to 1024 from 512\n"
   ]
  },
  {
   "cell_type": "code",
   "execution_count": null,
   "metadata": {},
   "outputs": [],
   "source": [
    "model_1 = keras.Sequential([\n",
    "    layers.Dense(1024, activation=\"relu\"),\n",
    "    layers.Dense(10, activation=\"softmax\")\n",
    "])\n",
    "\n",
    "model_1.compile(optimizer=\"rmsprop\",  \n",
    "              loss=\"sparse_categorical_crossentropy\",\n",
    "              metrics=[\"accuracy\"])"
   ]
  },
  {
   "cell_type": "markdown",
   "metadata": {},
   "source": [
    "## Train the model"
   ]
  },
  {
   "cell_type": "code",
   "execution_count": null,
   "metadata": {},
   "outputs": [
    {
     "name": "stdout",
     "output_type": "stream",
     "text": [
      "Epoch 1/30\n"
     ]
    },
    {
     "name": "stdout",
     "output_type": "stream",
     "text": [
      "375/375 [==============================] - 5s 11ms/step - loss: 0.6076 - accuracy: 0.7888 - val_loss: 0.4138 - val_accuracy: 0.8500\n",
      "Epoch 2/30\n",
      "375/375 [==============================] - 4s 10ms/step - loss: 0.4045 - accuracy: 0.8518 - val_loss: 0.3981 - val_accuracy: 0.8568\n",
      "Epoch 3/30\n",
      "375/375 [==============================] - 4s 11ms/step - loss: 0.3568 - accuracy: 0.8687 - val_loss: 0.4154 - val_accuracy: 0.8431\n",
      "Epoch 4/30\n",
      "375/375 [==============================] - 4s 11ms/step - loss: 0.3295 - accuracy: 0.8785 - val_loss: 0.3331 - val_accuracy: 0.8788\n",
      "Epoch 5/30\n",
      "375/375 [==============================] - 4s 10ms/step - loss: 0.3055 - accuracy: 0.8877 - val_loss: 0.3632 - val_accuracy: 0.8592\n",
      "Epoch 6/30\n",
      "375/375 [==============================] - 4s 11ms/step - loss: 0.2905 - accuracy: 0.8923 - val_loss: 0.4356 - val_accuracy: 0.8523\n",
      "Epoch 7/30\n",
      "375/375 [==============================] - 4s 11ms/step - loss: 0.2751 - accuracy: 0.8978 - val_loss: 0.3287 - val_accuracy: 0.8835\n",
      "Epoch 8/30\n",
      "375/375 [==============================] - 4s 11ms/step - loss: 0.2629 - accuracy: 0.9004 - val_loss: 0.3414 - val_accuracy: 0.8777\n",
      "Epoch 9/30\n",
      "375/375 [==============================] - 4s 10ms/step - loss: 0.2530 - accuracy: 0.9063 - val_loss: 0.3214 - val_accuracy: 0.8839\n",
      "Epoch 10/30\n",
      "375/375 [==============================] - 4s 11ms/step - loss: 0.2412 - accuracy: 0.9098 - val_loss: 0.3432 - val_accuracy: 0.8829\n",
      "Epoch 11/30\n",
      "375/375 [==============================] - 4s 11ms/step - loss: 0.2327 - accuracy: 0.9137 - val_loss: 0.3388 - val_accuracy: 0.8842\n",
      "Epoch 12/30\n",
      "375/375 [==============================] - 4s 10ms/step - loss: 0.2241 - accuracy: 0.9164 - val_loss: 0.3272 - val_accuracy: 0.8928\n",
      "Epoch 13/30\n",
      "375/375 [==============================] - 4s 10ms/step - loss: 0.2158 - accuracy: 0.9196 - val_loss: 0.3367 - val_accuracy: 0.8843\n",
      "Epoch 14/30\n",
      "375/375 [==============================] - 4s 11ms/step - loss: 0.2080 - accuracy: 0.9235 - val_loss: 0.3281 - val_accuracy: 0.8884\n",
      "Epoch 15/30\n",
      "375/375 [==============================] - 4s 10ms/step - loss: 0.2039 - accuracy: 0.9250 - val_loss: 0.3503 - val_accuracy: 0.8826\n",
      "Epoch 16/30\n",
      "375/375 [==============================] - 4s 11ms/step - loss: 0.1965 - accuracy: 0.9275 - val_loss: 0.3457 - val_accuracy: 0.8863\n",
      "Epoch 17/30\n",
      "375/375 [==============================] - 4s 10ms/step - loss: 0.1896 - accuracy: 0.9291 - val_loss: 0.3452 - val_accuracy: 0.8908\n",
      "Epoch 18/30\n",
      "375/375 [==============================] - 4s 11ms/step - loss: 0.1859 - accuracy: 0.9312 - val_loss: 0.3327 - val_accuracy: 0.8974\n",
      "Epoch 19/30\n",
      "375/375 [==============================] - 4s 11ms/step - loss: 0.1808 - accuracy: 0.9335 - val_loss: 0.3519 - val_accuracy: 0.8878\n",
      "Epoch 20/30\n",
      "375/375 [==============================] - 4s 11ms/step - loss: 0.1728 - accuracy: 0.9369 - val_loss: 0.3448 - val_accuracy: 0.8947\n",
      "Epoch 21/30\n",
      "375/375 [==============================] - 4s 11ms/step - loss: 0.1717 - accuracy: 0.9375 - val_loss: 0.4074 - val_accuracy: 0.8800\n",
      "Epoch 22/30\n",
      "375/375 [==============================] - 5s 13ms/step - loss: 0.1666 - accuracy: 0.9391 - val_loss: 0.3661 - val_accuracy: 0.8923\n",
      "Epoch 23/30\n",
      "375/375 [==============================] - 4s 12ms/step - loss: 0.1594 - accuracy: 0.9410 - val_loss: 0.3819 - val_accuracy: 0.8851\n",
      "Epoch 24/30\n",
      "375/375 [==============================] - 4s 10ms/step - loss: 0.1559 - accuracy: 0.9418 - val_loss: 0.3826 - val_accuracy: 0.8924\n",
      "Epoch 25/30\n",
      "375/375 [==============================] - 4s 10ms/step - loss: 0.1515 - accuracy: 0.9447 - val_loss: 0.3894 - val_accuracy: 0.8881\n",
      "Epoch 26/30\n",
      "375/375 [==============================] - 4s 10ms/step - loss: 0.1496 - accuracy: 0.9462 - val_loss: 0.3895 - val_accuracy: 0.8909\n",
      "Epoch 27/30\n",
      "375/375 [==============================] - 4s 10ms/step - loss: 0.1448 - accuracy: 0.9471 - val_loss: 0.3711 - val_accuracy: 0.8969\n",
      "Epoch 28/30\n",
      "375/375 [==============================] - 4s 11ms/step - loss: 0.1412 - accuracy: 0.9486 - val_loss: 0.5348 - val_accuracy: 0.8502\n",
      "Epoch 29/30\n",
      "375/375 [==============================] - 4s 11ms/step - loss: 0.1383 - accuracy: 0.9501 - val_loss: 0.4103 - val_accuracy: 0.8923\n",
      "Epoch 30/30\n",
      "375/375 [==============================] - 4s 11ms/step - loss: 0.1330 - accuracy: 0.9513 - val_loss: 0.4166 - val_accuracy: 0.8872\n"
     ]
    },
    {
     "data": {
      "text/plain": [
       "dict_keys(['loss', 'accuracy', 'val_loss', 'val_accuracy'])"
      ]
     },
     "execution_count": 165,
     "metadata": {},
     "output_type": "execute_result"
    }
   ],
   "source": [
    "history_1 = model_1.fit(train_images,\n",
    "                    train_labels,\n",
    "                    epochs=30,\n",
    "                    batch_size=128,\n",
    "                    validation_data=(val_images, val_labels))\n",
    "\n",
    "history_1_dict = history_1.history\n",
    "history_1_dict.keys()"
   ]
  },
  {
   "cell_type": "code",
   "execution_count": null,
   "metadata": {},
   "outputs": [
    {
     "data": {
      "text/html": [
       "<div>\n",
       "<style scoped>\n",
       "    .dataframe tbody tr th:only-of-type {\n",
       "        vertical-align: middle;\n",
       "    }\n",
       "\n",
       "    .dataframe tbody tr th {\n",
       "        vertical-align: top;\n",
       "    }\n",
       "\n",
       "    .dataframe thead th {\n",
       "        text-align: right;\n",
       "    }\n",
       "</style>\n",
       "<table border=\"1\" class=\"dataframe\">\n",
       "  <thead>\n",
       "    <tr style=\"text-align: right;\">\n",
       "      <th></th>\n",
       "      <th>loss</th>\n",
       "      <th>accuracy</th>\n",
       "      <th>val_loss</th>\n",
       "      <th>val_accuracy</th>\n",
       "    </tr>\n",
       "  </thead>\n",
       "  <tbody>\n",
       "    <tr>\n",
       "      <th>0</th>\n",
       "      <td>0.607575</td>\n",
       "      <td>0.788813</td>\n",
       "      <td>0.413762</td>\n",
       "      <td>0.850000</td>\n",
       "    </tr>\n",
       "    <tr>\n",
       "      <th>1</th>\n",
       "      <td>0.404543</td>\n",
       "      <td>0.851771</td>\n",
       "      <td>0.398070</td>\n",
       "      <td>0.856750</td>\n",
       "    </tr>\n",
       "    <tr>\n",
       "      <th>2</th>\n",
       "      <td>0.356811</td>\n",
       "      <td>0.868708</td>\n",
       "      <td>0.415438</td>\n",
       "      <td>0.843083</td>\n",
       "    </tr>\n",
       "    <tr>\n",
       "      <th>3</th>\n",
       "      <td>0.329518</td>\n",
       "      <td>0.878521</td>\n",
       "      <td>0.333102</td>\n",
       "      <td>0.878750</td>\n",
       "    </tr>\n",
       "    <tr>\n",
       "      <th>4</th>\n",
       "      <td>0.305500</td>\n",
       "      <td>0.887688</td>\n",
       "      <td>0.363164</td>\n",
       "      <td>0.859167</td>\n",
       "    </tr>\n",
       "    <tr>\n",
       "      <th>5</th>\n",
       "      <td>0.290486</td>\n",
       "      <td>0.892313</td>\n",
       "      <td>0.435577</td>\n",
       "      <td>0.852333</td>\n",
       "    </tr>\n",
       "    <tr>\n",
       "      <th>6</th>\n",
       "      <td>0.275065</td>\n",
       "      <td>0.897792</td>\n",
       "      <td>0.328743</td>\n",
       "      <td>0.883500</td>\n",
       "    </tr>\n",
       "    <tr>\n",
       "      <th>7</th>\n",
       "      <td>0.262919</td>\n",
       "      <td>0.900375</td>\n",
       "      <td>0.341350</td>\n",
       "      <td>0.877750</td>\n",
       "    </tr>\n",
       "    <tr>\n",
       "      <th>8</th>\n",
       "      <td>0.252974</td>\n",
       "      <td>0.906292</td>\n",
       "      <td>0.321389</td>\n",
       "      <td>0.883917</td>\n",
       "    </tr>\n",
       "    <tr>\n",
       "      <th>9</th>\n",
       "      <td>0.241215</td>\n",
       "      <td>0.909833</td>\n",
       "      <td>0.343158</td>\n",
       "      <td>0.882917</td>\n",
       "    </tr>\n",
       "    <tr>\n",
       "      <th>10</th>\n",
       "      <td>0.232650</td>\n",
       "      <td>0.913729</td>\n",
       "      <td>0.338832</td>\n",
       "      <td>0.884167</td>\n",
       "    </tr>\n",
       "    <tr>\n",
       "      <th>11</th>\n",
       "      <td>0.224103</td>\n",
       "      <td>0.916375</td>\n",
       "      <td>0.327209</td>\n",
       "      <td>0.892750</td>\n",
       "    </tr>\n",
       "    <tr>\n",
       "      <th>12</th>\n",
       "      <td>0.215783</td>\n",
       "      <td>0.919563</td>\n",
       "      <td>0.336695</td>\n",
       "      <td>0.884333</td>\n",
       "    </tr>\n",
       "    <tr>\n",
       "      <th>13</th>\n",
       "      <td>0.208037</td>\n",
       "      <td>0.923500</td>\n",
       "      <td>0.328147</td>\n",
       "      <td>0.888417</td>\n",
       "    </tr>\n",
       "    <tr>\n",
       "      <th>14</th>\n",
       "      <td>0.203933</td>\n",
       "      <td>0.924979</td>\n",
       "      <td>0.350273</td>\n",
       "      <td>0.882583</td>\n",
       "    </tr>\n",
       "    <tr>\n",
       "      <th>15</th>\n",
       "      <td>0.196507</td>\n",
       "      <td>0.927458</td>\n",
       "      <td>0.345692</td>\n",
       "      <td>0.886333</td>\n",
       "    </tr>\n",
       "    <tr>\n",
       "      <th>16</th>\n",
       "      <td>0.189621</td>\n",
       "      <td>0.929125</td>\n",
       "      <td>0.345165</td>\n",
       "      <td>0.890833</td>\n",
       "    </tr>\n",
       "    <tr>\n",
       "      <th>17</th>\n",
       "      <td>0.185869</td>\n",
       "      <td>0.931229</td>\n",
       "      <td>0.332687</td>\n",
       "      <td>0.897417</td>\n",
       "    </tr>\n",
       "    <tr>\n",
       "      <th>18</th>\n",
       "      <td>0.180829</td>\n",
       "      <td>0.933542</td>\n",
       "      <td>0.351926</td>\n",
       "      <td>0.887833</td>\n",
       "    </tr>\n",
       "    <tr>\n",
       "      <th>19</th>\n",
       "      <td>0.172756</td>\n",
       "      <td>0.936854</td>\n",
       "      <td>0.344793</td>\n",
       "      <td>0.894750</td>\n",
       "    </tr>\n",
       "    <tr>\n",
       "      <th>20</th>\n",
       "      <td>0.171713</td>\n",
       "      <td>0.937521</td>\n",
       "      <td>0.407396</td>\n",
       "      <td>0.880000</td>\n",
       "    </tr>\n",
       "    <tr>\n",
       "      <th>21</th>\n",
       "      <td>0.166633</td>\n",
       "      <td>0.939125</td>\n",
       "      <td>0.366110</td>\n",
       "      <td>0.892333</td>\n",
       "    </tr>\n",
       "    <tr>\n",
       "      <th>22</th>\n",
       "      <td>0.159406</td>\n",
       "      <td>0.940979</td>\n",
       "      <td>0.381931</td>\n",
       "      <td>0.885083</td>\n",
       "    </tr>\n",
       "    <tr>\n",
       "      <th>23</th>\n",
       "      <td>0.155922</td>\n",
       "      <td>0.941833</td>\n",
       "      <td>0.382555</td>\n",
       "      <td>0.892417</td>\n",
       "    </tr>\n",
       "    <tr>\n",
       "      <th>24</th>\n",
       "      <td>0.151513</td>\n",
       "      <td>0.944667</td>\n",
       "      <td>0.389425</td>\n",
       "      <td>0.888083</td>\n",
       "    </tr>\n",
       "    <tr>\n",
       "      <th>25</th>\n",
       "      <td>0.149634</td>\n",
       "      <td>0.946187</td>\n",
       "      <td>0.389485</td>\n",
       "      <td>0.890917</td>\n",
       "    </tr>\n",
       "    <tr>\n",
       "      <th>26</th>\n",
       "      <td>0.144834</td>\n",
       "      <td>0.947062</td>\n",
       "      <td>0.371137</td>\n",
       "      <td>0.896917</td>\n",
       "    </tr>\n",
       "    <tr>\n",
       "      <th>27</th>\n",
       "      <td>0.141151</td>\n",
       "      <td>0.948583</td>\n",
       "      <td>0.534752</td>\n",
       "      <td>0.850167</td>\n",
       "    </tr>\n",
       "    <tr>\n",
       "      <th>28</th>\n",
       "      <td>0.138302</td>\n",
       "      <td>0.950083</td>\n",
       "      <td>0.410312</td>\n",
       "      <td>0.892250</td>\n",
       "    </tr>\n",
       "    <tr>\n",
       "      <th>29</th>\n",
       "      <td>0.133005</td>\n",
       "      <td>0.951292</td>\n",
       "      <td>0.416601</td>\n",
       "      <td>0.887167</td>\n",
       "    </tr>\n",
       "  </tbody>\n",
       "</table>\n",
       "</div>"
      ],
      "text/plain": [
       "        loss  accuracy  val_loss  val_accuracy\n",
       "0   0.607575  0.788813  0.413762      0.850000\n",
       "1   0.404543  0.851771  0.398070      0.856750\n",
       "2   0.356811  0.868708  0.415438      0.843083\n",
       "3   0.329518  0.878521  0.333102      0.878750\n",
       "4   0.305500  0.887688  0.363164      0.859167\n",
       "5   0.290486  0.892313  0.435577      0.852333\n",
       "6   0.275065  0.897792  0.328743      0.883500\n",
       "7   0.262919  0.900375  0.341350      0.877750\n",
       "8   0.252974  0.906292  0.321389      0.883917\n",
       "9   0.241215  0.909833  0.343158      0.882917\n",
       "10  0.232650  0.913729  0.338832      0.884167\n",
       "11  0.224103  0.916375  0.327209      0.892750\n",
       "12  0.215783  0.919563  0.336695      0.884333\n",
       "13  0.208037  0.923500  0.328147      0.888417\n",
       "14  0.203933  0.924979  0.350273      0.882583\n",
       "15  0.196507  0.927458  0.345692      0.886333\n",
       "16  0.189621  0.929125  0.345165      0.890833\n",
       "17  0.185869  0.931229  0.332687      0.897417\n",
       "18  0.180829  0.933542  0.351926      0.887833\n",
       "19  0.172756  0.936854  0.344793      0.894750\n",
       "20  0.171713  0.937521  0.407396      0.880000\n",
       "21  0.166633  0.939125  0.366110      0.892333\n",
       "22  0.159406  0.940979  0.381931      0.885083\n",
       "23  0.155922  0.941833  0.382555      0.892417\n",
       "24  0.151513  0.944667  0.389425      0.888083\n",
       "25  0.149634  0.946187  0.389485      0.890917\n",
       "26  0.144834  0.947062  0.371137      0.896917\n",
       "27  0.141151  0.948583  0.534752      0.850167\n",
       "28  0.138302  0.950083  0.410312      0.892250\n",
       "29  0.133005  0.951292  0.416601      0.887167"
      ]
     },
     "execution_count": 166,
     "metadata": {},
     "output_type": "execute_result"
    }
   ],
   "source": [
    "hist_df_1 = pd.DataFrame(history_1_dict)\n",
    "hist_df_1"
   ]
  },
  {
   "cell_type": "markdown",
   "metadata": {},
   "source": [
    "## Printing out the Model Summary"
   ]
  },
  {
   "cell_type": "code",
   "execution_count": null,
   "metadata": {},
   "outputs": [
    {
     "name": "stdout",
     "output_type": "stream",
     "text": [
      "Model: \"sequential_16\"\n",
      "_________________________________________________________________\n",
      " Layer (type)                Output Shape              Param #   \n",
      "=================================================================\n",
      " dense_35 (Dense)            (None, 1024)              803840    \n",
      "                                                                 \n",
      " dense_36 (Dense)            (None, 10)                10250     \n",
      "                                                                 \n",
      "=================================================================\n",
      "Total params: 814,090\n",
      "Trainable params: 814,090\n",
      "Non-trainable params: 0\n",
      "_________________________________________________________________\n"
     ]
    }
   ],
   "source": [
    "model_1.summary()"
   ]
  },
  {
   "cell_type": "markdown",
   "metadata": {},
   "source": [
    "## Run on Test Set"
   ]
  },
  {
   "cell_type": "code",
   "execution_count": null,
   "metadata": {},
   "outputs": [
    {
     "name": "stdout",
     "output_type": "stream",
     "text": [
      " 18/313 [>.............................] - ETA: 0s - loss: 0.3471 - accuracy: 0.9062"
     ]
    },
    {
     "name": "stdout",
     "output_type": "stream",
     "text": [
      "313/313 [==============================] - 1s 3ms/step - loss: 0.3937 - accuracy: 0.8934\n",
      "Test Set Accuracy is : 0.893\n"
     ]
    }
   ],
   "source": [
    "test_loss, test_acc = model_1.evaluate(test_images, test_labels)\n",
    "print(f\"Test Set Accuracy is : {test_acc:.3f}\")"
   ]
  },
  {
   "cell_type": "markdown",
   "metadata": {},
   "source": [
    "* Model shows a good accuracy in test data as well with a value of .893.\n",
    "* This means 89.3 % of the images in test dataset are predicting correctly."
   ]
  },
  {
   "cell_type": "markdown",
   "metadata": {},
   "source": [
    "## Training and  Validation loss"
   ]
  },
  {
   "cell_type": "code",
   "execution_count": null,
   "metadata": {},
   "outputs": [
    {
     "data": {
      "text/plain": [
       "Text(0.5, 1.0, 'Training and validation loss')"
      ]
     },
     "execution_count": 169,
     "metadata": {},
     "output_type": "execute_result"
    },
    {
     "data": {
      "image/png": "[encoded data removed]",
      "text/plain": [
       "<Figure size 900x500 with 1 Axes>"
      ]
     },
     "metadata": {},
     "output_type": "display_data"
    }
   ],
   "source": [
    "# plot the training and validation loss\n",
    "import matplotlib.pyplot as plt\n",
    "plt.figure(figsize=(9, 5))\n",
    "loss_1_values = history_1_dict[\"loss\"]\n",
    "val_loss_1_values = history_1_dict[\"val_loss\"]\n",
    "epochs_1 = range(1, len(loss_1_values) + 1)\n",
    "plt.plot(epochs_1, loss_1_values, \"bo\", label=\"Training loss\")\n",
    "plt.plot(epochs_1, val_loss_1_values, \"ro\", label=\"Validation loss\")\n",
    "plt.xlabel(\"Epochs\")\n",
    "plt.xticks(epochs_1)\n",
    "plt.ylabel(\"Loss\")\n",
    "plt.legend()\n",
    "plt.title(\"Training and validation loss\")"
   ]
  },
  {
   "cell_type": "markdown",
   "metadata": {},
   "source": [
    "## Training and Validation accuracy"
   ]
  },
  {
   "cell_type": "code",
   "execution_count": null,
   "metadata": {},
   "outputs": [
    {
     "data": {
      "text/plain": [
       "Text(0.5, 1.0, 'Training and validation accuracy')"
      ]
     },
     "execution_count": 170,
     "metadata": {},
     "output_type": "execute_result"
    },
    {
     "data": {
      "image/png": "[encoded data removed]",
      "text/plain": [
       "<Figure size 900x500 with 1 Axes>"
      ]
     },
     "metadata": {},
     "output_type": "display_data"
    }
   ],
   "source": [
    "# plot the training and validation accuracy\n",
    "import matplotlib.pyplot as plt\n",
    "plt.figure(figsize=(9, 5))\n",
    "loss_1_values = history_1_dict[\"accuracy\"]\n",
    "val_loss_1_values = history_1_dict[\"val_accuracy\"]\n",
    "epochs_1 = range(1, len(loss_1_values) + 1)\n",
    "plt.plot(epochs_1, loss_1_values, \"bo\", label=\"Training accuracy\")\n",
    "plt.plot(epochs_1, val_loss_1_values, \"ro\", label=\"Validation accuracy\")\n",
    "plt.xlabel(\"Epochs\")\n",
    "plt.xticks(epochs_1)\n",
    "plt.ylabel(\"Accuracy\")\n",
    "plt.legend()\n",
    "plt.title(\"Training and validation accuracy\")"
   ]
  },
  {
   "cell_type": "markdown",
   "metadata": {},
   "source": [
    "## Conclusions\n",
    "\n",
    "**Training & Validation loss**\n",
    "* This model performs well on the training data but not on validation data.\n",
    "* The validation loss start to increase after epoch 13. The model have less loss until the epoch 13.\n",
    "* This is a case of overfitting.\n",
    "* For the first five epochs models works perfect and the model was stabilizing to a point.\n",
    "* There is a noticeable gap between the training and validation loss.\n",
    "\n",
    "**Accuracy**\n",
    "* The accuracy keeps increasing for training data and for validation also we are getting a good value of accuracy\n",
    "\n",
    "**Weights & Epoch**\n",
    "\n",
    "* Weights corresponds to epoch 17 are the best weights, where the val_accuracy is the highest (0.897417) and val_loss is relatively low compared to other epochs (0.332687).\n",
    "\n"
   ]
  },
  {
   "cell_type": "markdown",
   "metadata": {},
   "source": [
    "# Model 2"
   ]
  },
  {
   "cell_type": "markdown",
   "metadata": {},
   "source": [
    "## Creating & Compiling the model\n",
    "\n",
    "## In second model, I have added one more hidden layer which uses the relu activation function."
   ]
  },
  {
   "cell_type": "code",
   "execution_count": null,
   "metadata": {},
   "outputs": [],
   "source": [
    "model_2 = keras.Sequential([\n",
    "    layers.Dense(512, activation=\"relu\"),\n",
    "    layers.Dense(256, activation=\"relu\"),\n",
    "    layers.Dense(10, activation=\"softmax\")\n",
    "])\n",
    "\n",
    "model_2.compile(optimizer=\"rmsprop\",  \n",
    "              loss=\"sparse_categorical_crossentropy\",\n",
    "              metrics=[\"accuracy\"])"
   ]
  },
  {
   "cell_type": "markdown",
   "metadata": {},
   "source": [
    "## Train the Model"
   ]
  },
  {
   "cell_type": "code",
   "execution_count": null,
   "metadata": {},
   "outputs": [
    {
     "name": "stdout",
     "output_type": "stream",
     "text": [
      "Epoch 1/30\n"
     ]
    },
    {
     "name": "stdout",
     "output_type": "stream",
     "text": [
      "375/375 [==============================] - 4s 8ms/step - loss: 0.5776 - accuracy: 0.7902 - val_loss: 0.4191 - val_accuracy: 0.8441\n",
      "Epoch 2/30\n",
      "375/375 [==============================] - 3s 9ms/step - loss: 0.3973 - accuracy: 0.8536 - val_loss: 0.3773 - val_accuracy: 0.8536\n",
      "Epoch 3/30\n",
      "375/375 [==============================] - 3s 9ms/step - loss: 0.3498 - accuracy: 0.8702 - val_loss: 0.3328 - val_accuracy: 0.8759\n",
      "Epoch 4/30\n",
      "375/375 [==============================] - 3s 8ms/step - loss: 0.3224 - accuracy: 0.8819 - val_loss: 0.3440 - val_accuracy: 0.8721\n",
      "Epoch 5/30\n",
      "375/375 [==============================] - 3s 9ms/step - loss: 0.3015 - accuracy: 0.8885 - val_loss: 0.3794 - val_accuracy: 0.8625\n",
      "Epoch 6/30\n",
      "375/375 [==============================] - 3s 9ms/step - loss: 0.2821 - accuracy: 0.8941 - val_loss: 0.3340 - val_accuracy: 0.8786\n",
      "Epoch 7/30\n",
      "375/375 [==============================] - 3s 9ms/step - loss: 0.2661 - accuracy: 0.9002 - val_loss: 0.3477 - val_accuracy: 0.8731\n",
      "Epoch 8/30\n",
      "375/375 [==============================] - 3s 9ms/step - loss: 0.2538 - accuracy: 0.9045 - val_loss: 0.3373 - val_accuracy: 0.8793\n",
      "Epoch 9/30\n",
      "375/375 [==============================] - 3s 8ms/step - loss: 0.2440 - accuracy: 0.9097 - val_loss: 0.3192 - val_accuracy: 0.8891\n",
      "Epoch 10/30\n",
      "375/375 [==============================] - 3s 8ms/step - loss: 0.2333 - accuracy: 0.9129 - val_loss: 0.3355 - val_accuracy: 0.8803\n",
      "Epoch 11/30\n",
      "375/375 [==============================] - 3s 8ms/step - loss: 0.2248 - accuracy: 0.9145 - val_loss: 0.3408 - val_accuracy: 0.8923\n",
      "Epoch 12/30\n",
      "375/375 [==============================] - 3s 8ms/step - loss: 0.2175 - accuracy: 0.9176 - val_loss: 0.3671 - val_accuracy: 0.8857\n",
      "Epoch 13/30\n",
      "375/375 [==============================] - 3s 9ms/step - loss: 0.2094 - accuracy: 0.9205 - val_loss: 0.3494 - val_accuracy: 0.8907\n",
      "Epoch 14/30\n",
      "375/375 [==============================] - 4s 10ms/step - loss: 0.2009 - accuracy: 0.9245 - val_loss: 0.3834 - val_accuracy: 0.8803\n",
      "Epoch 15/30\n",
      "375/375 [==============================] - 3s 8ms/step - loss: 0.1971 - accuracy: 0.9256 - val_loss: 0.3694 - val_accuracy: 0.8895\n",
      "Epoch 16/30\n",
      "375/375 [==============================] - 3s 8ms/step - loss: 0.1903 - accuracy: 0.9275 - val_loss: 0.3871 - val_accuracy: 0.8896\n",
      "Epoch 17/30\n",
      "375/375 [==============================] - 3s 9ms/step - loss: 0.1870 - accuracy: 0.9305 - val_loss: 0.3600 - val_accuracy: 0.8899\n",
      "Epoch 18/30\n",
      "375/375 [==============================] - 3s 9ms/step - loss: 0.1802 - accuracy: 0.9304 - val_loss: 0.3966 - val_accuracy: 0.8922\n",
      "Epoch 19/30\n",
      "375/375 [==============================] - 3s 9ms/step - loss: 0.1750 - accuracy: 0.9335 - val_loss: 0.3621 - val_accuracy: 0.8952\n",
      "Epoch 20/30\n",
      "375/375 [==============================] - 3s 9ms/step - loss: 0.1714 - accuracy: 0.9362 - val_loss: 0.3905 - val_accuracy: 0.8870\n",
      "Epoch 21/30\n",
      "375/375 [==============================] - 3s 9ms/step - loss: 0.1663 - accuracy: 0.9363 - val_loss: 0.4402 - val_accuracy: 0.8860\n",
      "Epoch 22/30\n",
      "375/375 [==============================] - 3s 9ms/step - loss: 0.1658 - accuracy: 0.9373 - val_loss: 0.4403 - val_accuracy: 0.8902\n",
      "Epoch 23/30\n",
      "375/375 [==============================] - 3s 8ms/step - loss: 0.1612 - accuracy: 0.9402 - val_loss: 0.5984 - val_accuracy: 0.8513\n",
      "Epoch 24/30\n",
      "375/375 [==============================] - 3s 8ms/step - loss: 0.1583 - accuracy: 0.9406 - val_loss: 0.4859 - val_accuracy: 0.8823\n",
      "Epoch 25/30\n",
      "375/375 [==============================] - 3s 8ms/step - loss: 0.1527 - accuracy: 0.9428 - val_loss: 0.4600 - val_accuracy: 0.8831\n",
      "Epoch 26/30\n",
      "375/375 [==============================] - 3s 9ms/step - loss: 0.1522 - accuracy: 0.9433 - val_loss: 0.4917 - val_accuracy: 0.8930\n",
      "Epoch 27/30\n",
      "375/375 [==============================] - 3s 9ms/step - loss: 0.1479 - accuracy: 0.9447 - val_loss: 0.4715 - val_accuracy: 0.8912\n",
      "Epoch 28/30\n",
      "375/375 [==============================] - 3s 9ms/step - loss: 0.1472 - accuracy: 0.9447 - val_loss: 0.5042 - val_accuracy: 0.8887\n",
      "Epoch 29/30\n",
      "375/375 [==============================] - 3s 8ms/step - loss: 0.1455 - accuracy: 0.9456 - val_loss: 0.5785 - val_accuracy: 0.8718\n",
      "Epoch 30/30\n",
      "375/375 [==============================] - 3s 8ms/step - loss: 0.1453 - accuracy: 0.9461 - val_loss: 0.4996 - val_accuracy: 0.8932\n"
     ]
    },
    {
     "data": {
      "text/plain": [
       "dict_keys(['loss', 'accuracy', 'val_loss', 'val_accuracy'])"
      ]
     },
     "execution_count": 172,
     "metadata": {},
     "output_type": "execute_result"
    }
   ],
   "source": [
    "history_2 = model_2.fit(train_images,\n",
    "                    train_labels,\n",
    "                    epochs=30,\n",
    "                    batch_size=128,\n",
    "                    validation_data=(val_images, val_labels))\n",
    "\n",
    "history_2_dict = history_2.history\n",
    "history_2_dict.keys()"
   ]
  },
  {
   "cell_type": "code",
   "execution_count": null,
   "metadata": {},
   "outputs": [
    {
     "data": {
      "text/html": [
       "<div>\n",
       "<style scoped>\n",
       "    .dataframe tbody tr th:only-of-type {\n",
       "        vertical-align: middle;\n",
       "    }\n",
       "\n",
       "    .dataframe tbody tr th {\n",
       "        vertical-align: top;\n",
       "    }\n",
       "\n",
       "    .dataframe thead th {\n",
       "        text-align: right;\n",
       "    }\n",
       "</style>\n",
       "<table border=\"1\" class=\"dataframe\">\n",
       "  <thead>\n",
       "    <tr style=\"text-align: right;\">\n",
       "      <th></th>\n",
       "      <th>loss</th>\n",
       "      <th>accuracy</th>\n",
       "      <th>val_loss</th>\n",
       "      <th>val_accuracy</th>\n",
       "    </tr>\n",
       "  </thead>\n",
       "  <tbody>\n",
       "    <tr>\n",
       "      <th>0</th>\n",
       "      <td>0.577575</td>\n",
       "      <td>0.790167</td>\n",
       "      <td>0.419137</td>\n",
       "      <td>0.844083</td>\n",
       "    </tr>\n",
       "    <tr>\n",
       "      <th>1</th>\n",
       "      <td>0.397288</td>\n",
       "      <td>0.853625</td>\n",
       "      <td>0.377293</td>\n",
       "      <td>0.853583</td>\n",
       "    </tr>\n",
       "    <tr>\n",
       "      <th>2</th>\n",
       "      <td>0.349804</td>\n",
       "      <td>0.870188</td>\n",
       "      <td>0.332814</td>\n",
       "      <td>0.875917</td>\n",
       "    </tr>\n",
       "    <tr>\n",
       "      <th>3</th>\n",
       "      <td>0.322414</td>\n",
       "      <td>0.881854</td>\n",
       "      <td>0.343996</td>\n",
       "      <td>0.872083</td>\n",
       "    </tr>\n",
       "    <tr>\n",
       "      <th>4</th>\n",
       "      <td>0.301528</td>\n",
       "      <td>0.888521</td>\n",
       "      <td>0.379434</td>\n",
       "      <td>0.862500</td>\n",
       "    </tr>\n",
       "    <tr>\n",
       "      <th>5</th>\n",
       "      <td>0.282131</td>\n",
       "      <td>0.894125</td>\n",
       "      <td>0.334025</td>\n",
       "      <td>0.878583</td>\n",
       "    </tr>\n",
       "    <tr>\n",
       "      <th>6</th>\n",
       "      <td>0.266148</td>\n",
       "      <td>0.900167</td>\n",
       "      <td>0.347745</td>\n",
       "      <td>0.873083</td>\n",
       "    </tr>\n",
       "    <tr>\n",
       "      <th>7</th>\n",
       "      <td>0.253752</td>\n",
       "      <td>0.904542</td>\n",
       "      <td>0.337285</td>\n",
       "      <td>0.879333</td>\n",
       "    </tr>\n",
       "    <tr>\n",
       "      <th>8</th>\n",
       "      <td>0.243965</td>\n",
       "      <td>0.909708</td>\n",
       "      <td>0.319201</td>\n",
       "      <td>0.889083</td>\n",
       "    </tr>\n",
       "    <tr>\n",
       "      <th>9</th>\n",
       "      <td>0.233269</td>\n",
       "      <td>0.912875</td>\n",
       "      <td>0.335458</td>\n",
       "      <td>0.880333</td>\n",
       "    </tr>\n",
       "    <tr>\n",
       "      <th>10</th>\n",
       "      <td>0.224770</td>\n",
       "      <td>0.914542</td>\n",
       "      <td>0.340846</td>\n",
       "      <td>0.892250</td>\n",
       "    </tr>\n",
       "    <tr>\n",
       "      <th>11</th>\n",
       "      <td>0.217542</td>\n",
       "      <td>0.917562</td>\n",
       "      <td>0.367098</td>\n",
       "      <td>0.885667</td>\n",
       "    </tr>\n",
       "    <tr>\n",
       "      <th>12</th>\n",
       "      <td>0.209386</td>\n",
       "      <td>0.920458</td>\n",
       "      <td>0.349422</td>\n",
       "      <td>0.890750</td>\n",
       "    </tr>\n",
       "    <tr>\n",
       "      <th>13</th>\n",
       "      <td>0.200912</td>\n",
       "      <td>0.924500</td>\n",
       "      <td>0.383415</td>\n",
       "      <td>0.880333</td>\n",
       "    </tr>\n",
       "    <tr>\n",
       "      <th>14</th>\n",
       "      <td>0.197055</td>\n",
       "      <td>0.925563</td>\n",
       "      <td>0.369434</td>\n",
       "      <td>0.889500</td>\n",
       "    </tr>\n",
       "    <tr>\n",
       "      <th>15</th>\n",
       "      <td>0.190283</td>\n",
       "      <td>0.927521</td>\n",
       "      <td>0.387083</td>\n",
       "      <td>0.889583</td>\n",
       "    </tr>\n",
       "    <tr>\n",
       "      <th>16</th>\n",
       "      <td>0.186976</td>\n",
       "      <td>0.930479</td>\n",
       "      <td>0.359999</td>\n",
       "      <td>0.889917</td>\n",
       "    </tr>\n",
       "    <tr>\n",
       "      <th>17</th>\n",
       "      <td>0.180166</td>\n",
       "      <td>0.930438</td>\n",
       "      <td>0.396575</td>\n",
       "      <td>0.892167</td>\n",
       "    </tr>\n",
       "    <tr>\n",
       "      <th>18</th>\n",
       "      <td>0.174953</td>\n",
       "      <td>0.933521</td>\n",
       "      <td>0.362099</td>\n",
       "      <td>0.895167</td>\n",
       "    </tr>\n",
       "    <tr>\n",
       "      <th>19</th>\n",
       "      <td>0.171414</td>\n",
       "      <td>0.936188</td>\n",
       "      <td>0.390481</td>\n",
       "      <td>0.887000</td>\n",
       "    </tr>\n",
       "    <tr>\n",
       "      <th>20</th>\n",
       "      <td>0.166324</td>\n",
       "      <td>0.936271</td>\n",
       "      <td>0.440190</td>\n",
       "      <td>0.886000</td>\n",
       "    </tr>\n",
       "    <tr>\n",
       "      <th>21</th>\n",
       "      <td>0.165807</td>\n",
       "      <td>0.937333</td>\n",
       "      <td>0.440277</td>\n",
       "      <td>0.890167</td>\n",
       "    </tr>\n",
       "    <tr>\n",
       "      <th>22</th>\n",
       "      <td>0.161242</td>\n",
       "      <td>0.940229</td>\n",
       "      <td>0.598368</td>\n",
       "      <td>0.851333</td>\n",
       "    </tr>\n",
       "    <tr>\n",
       "      <th>23</th>\n",
       "      <td>0.158262</td>\n",
       "      <td>0.940583</td>\n",
       "      <td>0.485904</td>\n",
       "      <td>0.882250</td>\n",
       "    </tr>\n",
       "    <tr>\n",
       "      <th>24</th>\n",
       "      <td>0.152698</td>\n",
       "      <td>0.942771</td>\n",
       "      <td>0.460033</td>\n",
       "      <td>0.883083</td>\n",
       "    </tr>\n",
       "    <tr>\n",
       "      <th>25</th>\n",
       "      <td>0.152226</td>\n",
       "      <td>0.943271</td>\n",
       "      <td>0.491725</td>\n",
       "      <td>0.893000</td>\n",
       "    </tr>\n",
       "    <tr>\n",
       "      <th>26</th>\n",
       "      <td>0.147879</td>\n",
       "      <td>0.944667</td>\n",
       "      <td>0.471522</td>\n",
       "      <td>0.891167</td>\n",
       "    </tr>\n",
       "    <tr>\n",
       "      <th>27</th>\n",
       "      <td>0.147184</td>\n",
       "      <td>0.944687</td>\n",
       "      <td>0.504166</td>\n",
       "      <td>0.888667</td>\n",
       "    </tr>\n",
       "    <tr>\n",
       "      <th>28</th>\n",
       "      <td>0.145510</td>\n",
       "      <td>0.945604</td>\n",
       "      <td>0.578480</td>\n",
       "      <td>0.871833</td>\n",
       "    </tr>\n",
       "    <tr>\n",
       "      <th>29</th>\n",
       "      <td>0.145299</td>\n",
       "      <td>0.946063</td>\n",
       "      <td>0.499555</td>\n",
       "      <td>0.893167</td>\n",
       "    </tr>\n",
       "  </tbody>\n",
       "</table>\n",
       "</div>"
      ],
      "text/plain": [
       "        loss  accuracy  val_loss  val_accuracy\n",
       "0   0.577575  0.790167  0.419137      0.844083\n",
       "1   0.397288  0.853625  0.377293      0.853583\n",
       "2   0.349804  0.870188  0.332814      0.875917\n",
       "3   0.322414  0.881854  0.343996      0.872083\n",
       "4   0.301528  0.888521  0.379434      0.862500\n",
       "5   0.282131  0.894125  0.334025      0.878583\n",
       "6   0.266148  0.900167  0.347745      0.873083\n",
       "7   0.253752  0.904542  0.337285      0.879333\n",
       "8   0.243965  0.909708  0.319201      0.889083\n",
       "9   0.233269  0.912875  0.335458      0.880333\n",
       "10  0.224770  0.914542  0.340846      0.892250\n",
       "11  0.217542  0.917562  0.367098      0.885667\n",
       "12  0.209386  0.920458  0.349422      0.890750\n",
       "13  0.200912  0.924500  0.383415      0.880333\n",
       "14  0.197055  0.925563  0.369434      0.889500\n",
       "15  0.190283  0.927521  0.387083      0.889583\n",
       "16  0.186976  0.930479  0.359999      0.889917\n",
       "17  0.180166  0.930438  0.396575      0.892167\n",
       "18  0.174953  0.933521  0.362099      0.895167\n",
       "19  0.171414  0.936188  0.390481      0.887000\n",
       "20  0.166324  0.936271  0.440190      0.886000\n",
       "21  0.165807  0.937333  0.440277      0.890167\n",
       "22  0.161242  0.940229  0.598368      0.851333\n",
       "23  0.158262  0.940583  0.485904      0.882250\n",
       "24  0.152698  0.942771  0.460033      0.883083\n",
       "25  0.152226  0.943271  0.491725      0.893000\n",
       "26  0.147879  0.944667  0.471522      0.891167\n",
       "27  0.147184  0.944687  0.504166      0.888667\n",
       "28  0.145510  0.945604  0.578480      0.871833\n",
       "29  0.145299  0.946063  0.499555      0.893167"
      ]
     },
     "execution_count": 173,
     "metadata": {},
     "output_type": "execute_result"
    }
   ],
   "source": [
    "hist_df_2 = pd.DataFrame(history_2_dict)\n",
    "hist_df_2"
   ]
  },
  {
   "cell_type": "markdown",
   "metadata": {},
   "source": [
    "## Printing out the Model Summary"
   ]
  },
  {
   "cell_type": "code",
   "execution_count": null,
   "metadata": {},
   "outputs": [
    {
     "name": "stdout",
     "output_type": "stream",
     "text": [
      "Model: \"sequential_17\"\n",
      "_________________________________________________________________\n",
      " Layer (type)                Output Shape              Param #   \n",
      "=================================================================\n",
      " dense_37 (Dense)            (None, 512)               401920    \n",
      "                                                                 \n",
      " dense_38 (Dense)            (None, 256)               131328    \n",
      "                                                                 \n",
      " dense_39 (Dense)            (None, 10)                2570      \n",
      "                                                                 \n",
      "=================================================================\n",
      "Total params: 535,818\n",
      "Trainable params: 535,818\n",
      "Non-trainable params: 0\n",
      "_________________________________________________________________\n"
     ]
    }
   ],
   "source": [
    "model_2.summary()"
   ]
  },
  {
   "cell_type": "markdown",
   "metadata": {},
   "source": [
    "## Run on Test Set"
   ]
  },
  {
   "cell_type": "code",
   "execution_count": null,
   "metadata": {},
   "outputs": [
    {
     "name": "stdout",
     "output_type": "stream",
     "text": [
      " 35/313 [==>...........................] - ETA: 0s - loss: 0.4062 - accuracy: 0.9009"
     ]
    },
    {
     "name": "stdout",
     "output_type": "stream",
     "text": [
      "313/313 [==============================] - 1s 2ms/step - loss: 0.4763 - accuracy: 0.8964\n",
      "Test Set Accuracy is : 0.896\n"
     ]
    }
   ],
   "source": [
    "test_loss, test_acc = model_2.evaluate(test_images, test_labels)\n",
    "print(f\"Test Set Accuracy is : {test_acc:.3f}\")"
   ]
  },
  {
   "cell_type": "markdown",
   "metadata": {},
   "source": [
    "## Training and Validation loss"
   ]
  },
  {
   "cell_type": "code",
   "execution_count": null,
   "metadata": {},
   "outputs": [
    {
     "data": {
      "text/plain": [
       "Text(0.5, 1.0, 'Training and validation loss')"
      ]
     },
     "execution_count": 176,
     "metadata": {},
     "output_type": "execute_result"
    },
    {
     "data": {
      "image/png": "[encoded data removed]",
      "text/plain": [
       "<Figure size 900x500 with 1 Axes>"
      ]
     },
     "metadata": {},
     "output_type": "display_data"
    }
   ],
   "source": [
    "# plot the training and validation loss\n",
    "import matplotlib.pyplot as plt\n",
    "plt.figure(figsize=(9, 5))\n",
    "loss_2_values = history_2_dict[\"loss\"]\n",
    "val_loss_2_values = history_2_dict[\"val_loss\"]\n",
    "epochs_2 = range(1, len(loss_2_values) + 1)\n",
    "plt.plot(epochs_2, loss_2_values, \"bo\", label=\"Training loss\")\n",
    "plt.plot(epochs_2, val_loss_2_values, \"ro\", label=\"Validation loss\")\n",
    "plt.xlabel(\"Epochs\")\n",
    "plt.xticks(epochs_2)\n",
    "plt.ylabel(\"Loss\")\n",
    "plt.legend()\n",
    "plt.title(\"Training and validation loss\")"
   ]
  },
  {
   "cell_type": "markdown",
   "metadata": {},
   "source": [
    "## Training and Validation accuracy"
   ]
  },
  {
   "cell_type": "code",
   "execution_count": null,
   "metadata": {},
   "outputs": [
    {
     "data": {
      "text/plain": [
       "Text(0.5, 1.0, 'Training and validation accuracy')"
      ]
     },
     "execution_count": 177,
     "metadata": {},
     "output_type": "execute_result"
    },
    {
     "data": {
      "image/png": "[encoded data removed]",
      "text/plain": [
       "<Figure size 900x500 with 1 Axes>"
      ]
     },
     "metadata": {},
     "output_type": "display_data"
    }
   ],
   "source": [
    "# plot the training and validation accuracy\n",
    "import matplotlib.pyplot as plt\n",
    "plt.figure(figsize=(9, 5))\n",
    "loss_2_values = history_2_dict[\"accuracy\"]\n",
    "val_loss_2_values = history_2_dict[\"val_accuracy\"]\n",
    "epochs_2 = range(1, len(loss_2_values) + 1)\n",
    "plt.plot(epochs_2, loss_1_values, \"bo\", label=\"Training accuracy\")\n",
    "plt.plot(epochs_2, val_loss_2_values, \"ro\", label=\"Validation accuracy\")\n",
    "plt.xlabel(\"Epochs\")\n",
    "plt.xticks(epochs_2)\n",
    "plt.ylabel(\"Accuracy\")\n",
    "plt.legend()\n",
    "plt.title(\"Training and validation accuracy\")"
   ]
  },
  {
   "cell_type": "markdown",
   "metadata": {},
   "source": [
    "## Conclusions\n",
    "\n",
    "**Training & Validation loss**\n",
    "* This model performs well on the training data but not on validation data.\n",
    "* The validation loss start to increase after epoch 4. The model have less loss until the epoch 4.\n",
    "* The gap between validation and training loss is very high.\n",
    "* This is an indicator of overfitting.\n",
    "* For the first four epochs models works perfect and the model was stabilizing to a point.\n",
    "\n",
    "**Accuracy**\n",
    "\n",
    "* We are getting accuracy almost similiar to the previous model for training and validation.\n",
    "\n",
    "**Weights**\n",
    "* The best set of weights seems to correspond to epoch 18, where val_accuracy is the highest (0.895167) and val_loss is relatively low compared to other epochs (0.362099).\n",
    "\t"
   ]
  },
  {
   "cell_type": "markdown",
   "metadata": {},
   "source": [
    "# Model 3\n",
    "\n",
    "## For this Model, I am chaging activation function to tanh from ReLu for the input layer\n"
   ]
  },
  {
   "cell_type": "markdown",
   "metadata": {},
   "source": [
    "### Creating & Compelling the model"
   ]
  },
  {
   "cell_type": "code",
   "execution_count": 250,
   "metadata": {},
   "outputs": [],
   "source": [
    "model_3 = keras.Sequential([\n",
    "    layers.Dense(1024, activation=\"tanh\"),\n",
    "    layers.Dense(10, activation=\"softmax\")\n",
    "])\n",
    "\n",
    "model_3.compile(optimizer=\"rmsprop\",  \n",
    "              loss=\"sparse_categorical_crossentropy\",\n",
    "              metrics=[\"accuracy\"])"
   ]
  },
  {
   "cell_type": "markdown",
   "metadata": {},
   "source": [
    "### Model Checkpoint"
   ]
  },
  {
   "cell_type": "code",
   "execution_count": 251,
   "metadata": {},
   "outputs": [],
   "source": [
    "checkpoint_filepath = 'best_model.hdf5'  # Filepath where you want to save the model\n",
    "\n",
    "model_checkpoint_callback = ModelCheckpoint(\n",
    "    filepath=checkpoint_filepath,\n",
    "    save_weights_only=False,  # Optionally save only weights instead of the full model\n",
    "    monitor='val_loss',\n",
    "    mode='min',  # Monitor validation loss and save on minimum\n",
    "    save_best_only=True)"
   ]
  },
  {
   "cell_type": "markdown",
   "metadata": {},
   "source": [
    "### Train the Model"
   ]
  },
  {
   "cell_type": "code",
   "execution_count": 252,
   "metadata": {},
   "outputs": [
    {
     "name": "stdout",
     "output_type": "stream",
     "text": [
      "Epoch 1/30\n",
      "240/240 [==============================] - 2s 9ms/step - loss: 0.7872 - accuracy: 0.7421 - val_loss: 0.5484 - val_accuracy: 0.7992\n",
      "Epoch 2/30\n",
      "240/240 [==============================] - 2s 8ms/step - loss: 0.5215 - accuracy: 0.8079 - val_loss: 0.4560 - val_accuracy: 0.8305\n",
      "Epoch 3/30\n",
      "240/240 [==============================] - 2s 8ms/step - loss: 0.4632 - accuracy: 0.8301 - val_loss: 0.5023 - val_accuracy: 0.8139\n",
      "Epoch 4/30\n",
      "240/240 [==============================] - 2s 9ms/step - loss: 0.4301 - accuracy: 0.8402 - val_loss: 0.4485 - val_accuracy: 0.8365\n",
      "Epoch 5/30\n",
      "240/240 [==============================] - 3s 12ms/step - loss: 0.4039 - accuracy: 0.8499 - val_loss: 0.3927 - val_accuracy: 0.8578\n",
      "Epoch 6/30\n",
      "240/240 [==============================] - 3s 11ms/step - loss: 0.3832 - accuracy: 0.8581 - val_loss: 0.4202 - val_accuracy: 0.8473\n",
      "Epoch 7/30\n",
      "240/240 [==============================] - 3s 11ms/step - loss: 0.3646 - accuracy: 0.8655 - val_loss: 0.3548 - val_accuracy: 0.8712\n",
      "Epoch 8/30\n",
      "240/240 [==============================] - 3s 11ms/step - loss: 0.3483 - accuracy: 0.8714 - val_loss: 0.3885 - val_accuracy: 0.8604\n",
      "Epoch 9/30\n",
      "240/240 [==============================] - 3s 11ms/step - loss: 0.3398 - accuracy: 0.8728 - val_loss: 0.3526 - val_accuracy: 0.8733\n",
      "Epoch 10/30\n",
      "240/240 [==============================] - 3s 12ms/step - loss: 0.3241 - accuracy: 0.8785 - val_loss: 0.3843 - val_accuracy: 0.8639\n",
      "Epoch 11/30\n",
      "240/240 [==============================] - 3s 11ms/step - loss: 0.3148 - accuracy: 0.8819 - val_loss: 0.3944 - val_accuracy: 0.8618\n",
      "Epoch 12/30\n",
      "240/240 [==============================] - 3s 11ms/step - loss: 0.3030 - accuracy: 0.8869 - val_loss: 0.4932 - val_accuracy: 0.8376\n",
      "Epoch 13/30\n",
      "240/240 [==============================] - 3s 13ms/step - loss: 0.2939 - accuracy: 0.8885 - val_loss: 0.3758 - val_accuracy: 0.8660\n",
      "Epoch 14/30\n",
      "240/240 [==============================] - 3s 11ms/step - loss: 0.2865 - accuracy: 0.8921 - val_loss: 0.3858 - val_accuracy: 0.8589\n",
      "Epoch 15/30\n",
      "240/240 [==============================] - 3s 11ms/step - loss: 0.2810 - accuracy: 0.8950 - val_loss: 0.3745 - val_accuracy: 0.8674\n",
      "Epoch 16/30\n",
      "240/240 [==============================] - 3s 11ms/step - loss: 0.2706 - accuracy: 0.8990 - val_loss: 0.3497 - val_accuracy: 0.8766\n",
      "Epoch 17/30\n",
      "240/240 [==============================] - 3s 11ms/step - loss: 0.2627 - accuracy: 0.8999 - val_loss: 0.3881 - val_accuracy: 0.8590\n",
      "Epoch 18/30\n",
      "240/240 [==============================] - 3s 12ms/step - loss: 0.2583 - accuracy: 0.9018 - val_loss: 0.3379 - val_accuracy: 0.8818\n",
      "Epoch 19/30\n",
      "240/240 [==============================] - 3s 13ms/step - loss: 0.2485 - accuracy: 0.9070 - val_loss: 0.3331 - val_accuracy: 0.8831\n",
      "Epoch 20/30\n",
      "240/240 [==============================] - 3s 13ms/step - loss: 0.2435 - accuracy: 0.9073 - val_loss: 0.4044 - val_accuracy: 0.8634\n",
      "Epoch 21/30\n",
      "240/240 [==============================] - 3s 13ms/step - loss: 0.2389 - accuracy: 0.9101 - val_loss: 0.3603 - val_accuracy: 0.8733\n",
      "Epoch 22/30\n",
      "240/240 [==============================] - 3s 11ms/step - loss: 0.2306 - accuracy: 0.9139 - val_loss: 0.3753 - val_accuracy: 0.8717\n",
      "Epoch 23/30\n",
      "240/240 [==============================] - 3s 11ms/step - loss: 0.2243 - accuracy: 0.9154 - val_loss: 0.3494 - val_accuracy: 0.8754\n",
      "Epoch 24/30\n",
      "240/240 [==============================] - 3s 12ms/step - loss: 0.2213 - accuracy: 0.9174 - val_loss: 0.3432 - val_accuracy: 0.8836\n",
      "Epoch 25/30\n",
      "240/240 [==============================] - 3s 12ms/step - loss: 0.2127 - accuracy: 0.9200 - val_loss: 0.3555 - val_accuracy: 0.8796\n",
      "Epoch 26/30\n",
      "240/240 [==============================] - 3s 12ms/step - loss: 0.2091 - accuracy: 0.9215 - val_loss: 0.3715 - val_accuracy: 0.8733\n",
      "Epoch 27/30\n",
      "240/240 [==============================] - 3s 12ms/step - loss: 0.2062 - accuracy: 0.9216 - val_loss: 0.3729 - val_accuracy: 0.8742\n",
      "Epoch 28/30\n",
      "240/240 [==============================] - 3s 12ms/step - loss: 0.2014 - accuracy: 0.9243 - val_loss: 0.4013 - val_accuracy: 0.8689\n",
      "Epoch 29/30\n",
      "240/240 [==============================] - 3s 12ms/step - loss: 0.1925 - accuracy: 0.9276 - val_loss: 0.3839 - val_accuracy: 0.8730\n",
      "Epoch 30/30\n",
      "240/240 [==============================] - 3s 12ms/step - loss: 0.1889 - accuracy: 0.9291 - val_loss: 0.3691 - val_accuracy: 0.8767\n"
     ]
    },
    {
     "data": {
      "text/plain": [
       "dict_keys(['loss', 'accuracy', 'val_loss', 'val_accuracy'])"
      ]
     },
     "execution_count": 252,
     "metadata": {},
     "output_type": "execute_result"
    }
   ],
   "source": [
    "history_3 = model_3.fit(train_images,\n",
    "                    train_labels,\n",
    "                    epochs=30,\n",
    "                    batch_size=128,\n",
    "                    validation_data=(val_images, val_labels),\n",
    "                    callbacks=[model_checkpoint_callback]\n",
    "                    )\n",
    "\n",
    "history_3_dict = history_3.history\n",
    "history_3_dict.keys()"
   ]
  },
  {
   "cell_type": "code",
   "execution_count": 254,
   "metadata": {},
   "outputs": [
    {
     "data": {
      "text/html": [
       "<div>\n",
       "<style scoped>\n",
       "    .dataframe tbody tr th:only-of-type {\n",
       "        vertical-align: middle;\n",
       "    }\n",
       "\n",
       "    .dataframe tbody tr th {\n",
       "        vertical-align: top;\n",
       "    }\n",
       "\n",
       "    .dataframe thead th {\n",
       "        text-align: right;\n",
       "    }\n",
       "</style>\n",
       "<table border=\"1\" class=\"dataframe\">\n",
       "  <thead>\n",
       "    <tr style=\"text-align: right;\">\n",
       "      <th></th>\n",
       "      <th>loss</th>\n",
       "      <th>accuracy</th>\n",
       "      <th>val_loss</th>\n",
       "      <th>val_accuracy</th>\n",
       "    </tr>\n",
       "  </thead>\n",
       "  <tbody>\n",
       "    <tr>\n",
       "      <th>0</th>\n",
       "      <td>0.787157</td>\n",
       "      <td>0.742122</td>\n",
       "      <td>0.548361</td>\n",
       "      <td>0.799219</td>\n",
       "    </tr>\n",
       "    <tr>\n",
       "      <th>1</th>\n",
       "      <td>0.521542</td>\n",
       "      <td>0.807910</td>\n",
       "      <td>0.456008</td>\n",
       "      <td>0.830469</td>\n",
       "    </tr>\n",
       "    <tr>\n",
       "      <th>2</th>\n",
       "      <td>0.463224</td>\n",
       "      <td>0.830078</td>\n",
       "      <td>0.502307</td>\n",
       "      <td>0.813932</td>\n",
       "    </tr>\n",
       "    <tr>\n",
       "      <th>3</th>\n",
       "      <td>0.430057</td>\n",
       "      <td>0.840169</td>\n",
       "      <td>0.448467</td>\n",
       "      <td>0.836458</td>\n",
       "    </tr>\n",
       "    <tr>\n",
       "      <th>4</th>\n",
       "      <td>0.403909</td>\n",
       "      <td>0.849902</td>\n",
       "      <td>0.392681</td>\n",
       "      <td>0.857813</td>\n",
       "    </tr>\n",
       "    <tr>\n",
       "      <th>5</th>\n",
       "      <td>0.383183</td>\n",
       "      <td>0.858138</td>\n",
       "      <td>0.420228</td>\n",
       "      <td>0.847266</td>\n",
       "    </tr>\n",
       "    <tr>\n",
       "      <th>6</th>\n",
       "      <td>0.364628</td>\n",
       "      <td>0.865527</td>\n",
       "      <td>0.354773</td>\n",
       "      <td>0.871224</td>\n",
       "    </tr>\n",
       "    <tr>\n",
       "      <th>7</th>\n",
       "      <td>0.348344</td>\n",
       "      <td>0.871354</td>\n",
       "      <td>0.388531</td>\n",
       "      <td>0.860417</td>\n",
       "    </tr>\n",
       "    <tr>\n",
       "      <th>8</th>\n",
       "      <td>0.339754</td>\n",
       "      <td>0.872819</td>\n",
       "      <td>0.352563</td>\n",
       "      <td>0.873307</td>\n",
       "    </tr>\n",
       "    <tr>\n",
       "      <th>9</th>\n",
       "      <td>0.324141</td>\n",
       "      <td>0.878548</td>\n",
       "      <td>0.384300</td>\n",
       "      <td>0.863932</td>\n",
       "    </tr>\n",
       "    <tr>\n",
       "      <th>10</th>\n",
       "      <td>0.314807</td>\n",
       "      <td>0.881934</td>\n",
       "      <td>0.394371</td>\n",
       "      <td>0.861849</td>\n",
       "    </tr>\n",
       "    <tr>\n",
       "      <th>11</th>\n",
       "      <td>0.303024</td>\n",
       "      <td>0.886947</td>\n",
       "      <td>0.493185</td>\n",
       "      <td>0.837630</td>\n",
       "    </tr>\n",
       "    <tr>\n",
       "      <th>12</th>\n",
       "      <td>0.293879</td>\n",
       "      <td>0.888509</td>\n",
       "      <td>0.375772</td>\n",
       "      <td>0.866016</td>\n",
       "    </tr>\n",
       "    <tr>\n",
       "      <th>13</th>\n",
       "      <td>0.286506</td>\n",
       "      <td>0.892122</td>\n",
       "      <td>0.385754</td>\n",
       "      <td>0.858854</td>\n",
       "    </tr>\n",
       "    <tr>\n",
       "      <th>14</th>\n",
       "      <td>0.281000</td>\n",
       "      <td>0.894954</td>\n",
       "      <td>0.374530</td>\n",
       "      <td>0.867448</td>\n",
       "    </tr>\n",
       "    <tr>\n",
       "      <th>15</th>\n",
       "      <td>0.270584</td>\n",
       "      <td>0.898991</td>\n",
       "      <td>0.349728</td>\n",
       "      <td>0.876562</td>\n",
       "    </tr>\n",
       "    <tr>\n",
       "      <th>16</th>\n",
       "      <td>0.262707</td>\n",
       "      <td>0.899935</td>\n",
       "      <td>0.388101</td>\n",
       "      <td>0.858984</td>\n",
       "    </tr>\n",
       "    <tr>\n",
       "      <th>17</th>\n",
       "      <td>0.258273</td>\n",
       "      <td>0.901823</td>\n",
       "      <td>0.337912</td>\n",
       "      <td>0.881771</td>\n",
       "    </tr>\n",
       "    <tr>\n",
       "      <th>18</th>\n",
       "      <td>0.248524</td>\n",
       "      <td>0.907031</td>\n",
       "      <td>0.333083</td>\n",
       "      <td>0.883073</td>\n",
       "    </tr>\n",
       "    <tr>\n",
       "      <th>19</th>\n",
       "      <td>0.243545</td>\n",
       "      <td>0.907292</td>\n",
       "      <td>0.404353</td>\n",
       "      <td>0.863411</td>\n",
       "    </tr>\n",
       "    <tr>\n",
       "      <th>20</th>\n",
       "      <td>0.238909</td>\n",
       "      <td>0.910124</td>\n",
       "      <td>0.360310</td>\n",
       "      <td>0.873307</td>\n",
       "    </tr>\n",
       "    <tr>\n",
       "      <th>21</th>\n",
       "      <td>0.230554</td>\n",
       "      <td>0.913867</td>\n",
       "      <td>0.375343</td>\n",
       "      <td>0.871745</td>\n",
       "    </tr>\n",
       "    <tr>\n",
       "      <th>22</th>\n",
       "      <td>0.224277</td>\n",
       "      <td>0.915397</td>\n",
       "      <td>0.349370</td>\n",
       "      <td>0.875391</td>\n",
       "    </tr>\n",
       "    <tr>\n",
       "      <th>23</th>\n",
       "      <td>0.221266</td>\n",
       "      <td>0.917448</td>\n",
       "      <td>0.343177</td>\n",
       "      <td>0.883594</td>\n",
       "    </tr>\n",
       "    <tr>\n",
       "      <th>24</th>\n",
       "      <td>0.212735</td>\n",
       "      <td>0.919954</td>\n",
       "      <td>0.355518</td>\n",
       "      <td>0.879557</td>\n",
       "    </tr>\n",
       "    <tr>\n",
       "      <th>25</th>\n",
       "      <td>0.209072</td>\n",
       "      <td>0.921452</td>\n",
       "      <td>0.371511</td>\n",
       "      <td>0.873307</td>\n",
       "    </tr>\n",
       "    <tr>\n",
       "      <th>26</th>\n",
       "      <td>0.206186</td>\n",
       "      <td>0.921582</td>\n",
       "      <td>0.372911</td>\n",
       "      <td>0.874219</td>\n",
       "    </tr>\n",
       "    <tr>\n",
       "      <th>27</th>\n",
       "      <td>0.201369</td>\n",
       "      <td>0.924251</td>\n",
       "      <td>0.401332</td>\n",
       "      <td>0.868880</td>\n",
       "    </tr>\n",
       "    <tr>\n",
       "      <th>28</th>\n",
       "      <td>0.192548</td>\n",
       "      <td>0.927637</td>\n",
       "      <td>0.383910</td>\n",
       "      <td>0.873047</td>\n",
       "    </tr>\n",
       "    <tr>\n",
       "      <th>29</th>\n",
       "      <td>0.188938</td>\n",
       "      <td>0.929134</td>\n",
       "      <td>0.369064</td>\n",
       "      <td>0.876693</td>\n",
       "    </tr>\n",
       "  </tbody>\n",
       "</table>\n",
       "</div>"
      ],
      "text/plain": [
       "        loss  accuracy  val_loss  val_accuracy\n",
       "0   0.787157  0.742122  0.548361      0.799219\n",
       "1   0.521542  0.807910  0.456008      0.830469\n",
       "2   0.463224  0.830078  0.502307      0.813932\n",
       "3   0.430057  0.840169  0.448467      0.836458\n",
       "4   0.403909  0.849902  0.392681      0.857813\n",
       "5   0.383183  0.858138  0.420228      0.847266\n",
       "6   0.364628  0.865527  0.354773      0.871224\n",
       "7   0.348344  0.871354  0.388531      0.860417\n",
       "8   0.339754  0.872819  0.352563      0.873307\n",
       "9   0.324141  0.878548  0.384300      0.863932\n",
       "10  0.314807  0.881934  0.394371      0.861849\n",
       "11  0.303024  0.886947  0.493185      0.837630\n",
       "12  0.293879  0.888509  0.375772      0.866016\n",
       "13  0.286506  0.892122  0.385754      0.858854\n",
       "14  0.281000  0.894954  0.374530      0.867448\n",
       "15  0.270584  0.898991  0.349728      0.876562\n",
       "16  0.262707  0.899935  0.388101      0.858984\n",
       "17  0.258273  0.901823  0.337912      0.881771\n",
       "18  0.248524  0.907031  0.333083      0.883073\n",
       "19  0.243545  0.907292  0.404353      0.863411\n",
       "20  0.238909  0.910124  0.360310      0.873307\n",
       "21  0.230554  0.913867  0.375343      0.871745\n",
       "22  0.224277  0.915397  0.349370      0.875391\n",
       "23  0.221266  0.917448  0.343177      0.883594\n",
       "24  0.212735  0.919954  0.355518      0.879557\n",
       "25  0.209072  0.921452  0.371511      0.873307\n",
       "26  0.206186  0.921582  0.372911      0.874219\n",
       "27  0.201369  0.924251  0.401332      0.868880\n",
       "28  0.192548  0.927637  0.383910      0.873047\n",
       "29  0.188938  0.929134  0.369064      0.876693"
      ]
     },
     "execution_count": 254,
     "metadata": {},
     "output_type": "execute_result"
    }
   ],
   "source": [
    "hist_df_3 = pd.DataFrame(history_3_dict)\n",
    "hist_df_3"
   ]
  },
  {
   "cell_type": "markdown",
   "metadata": {},
   "source": [
    "## Printing out the Model Summary"
   ]
  },
  {
   "cell_type": "code",
   "execution_count": 255,
   "metadata": {},
   "outputs": [
    {
     "name": "stdout",
     "output_type": "stream",
     "text": [
      "Model: \"sequential_22\"\n",
      "_________________________________________________________________\n",
      " Layer (type)                Output Shape              Param #   \n",
      "=================================================================\n",
      " dense_48 (Dense)            (128, 1024)               803840    \n",
      "                                                                 \n",
      " dense_49 (Dense)            (128, 10)                 10250     \n",
      "                                                                 \n",
      "=================================================================\n",
      "Total params: 814,090\n",
      "Trainable params: 814,090\n",
      "Non-trainable params: 0\n",
      "_________________________________________________________________\n"
     ]
    }
   ],
   "source": [
    "model_3.summary()"
   ]
  },
  {
   "cell_type": "markdown",
   "metadata": {},
   "source": [
    "## Run on Test Set & Conclusions"
   ]
  },
  {
   "cell_type": "code",
   "execution_count": 256,
   "metadata": {},
   "outputs": [
    {
     "name": "stdout",
     "output_type": "stream",
     "text": [
      "313/313 [==============================] - 1s 2ms/step - loss: 0.3704 - accuracy: 0.8831\n",
      "Test Set Accuracy is : 0.883\n"
     ]
    }
   ],
   "source": [
    "test_loss, test_acc = model_3.evaluate(test_images, test_labels)\n",
    "print(f\"Test Set Accuracy is : {test_acc:.3f}\")"
   ]
  },
  {
   "cell_type": "markdown",
   "metadata": {},
   "source": [
    "## Training and Validation loss"
   ]
  },
  {
   "cell_type": "code",
   "execution_count": 257,
   "metadata": {},
   "outputs": [
    {
     "data": {
      "text/plain": [
       "Text(0.5, 1.0, 'Training and validation loss')"
      ]
     },
     "execution_count": 257,
     "metadata": {},
     "output_type": "execute_result"
    },
    {
     "data": {
      "image/png": "[encoded data removed]",
      "text/plain": [
       "<Figure size 900x500 with 1 Axes>"
      ]
     },
     "metadata": {},
     "output_type": "display_data"
    }
   ],
   "source": [
    "# plot the training and validation loss\n",
    "import matplotlib.pyplot as plt\n",
    "plt.figure(figsize=(9, 5))\n",
    "loss_3_values = history_3_dict[\"loss\"]\n",
    "val_loss_3_values = history_3_dict[\"val_loss\"]\n",
    "epochs_3 = range(1, len(loss_3_values) + 1)\n",
    "plt.plot(epochs_3, loss_3_values, \"bo\", label=\"Training loss\")\n",
    "plt.plot(epochs_3, val_loss_3_values, \"ro\", label=\"Validation loss\")\n",
    "plt.xlabel(\"Epochs\")\n",
    "plt.xticks(epochs_3)\n",
    "plt.ylabel(\"Loss\")\n",
    "plt.legend()\n",
    "plt.title(\"Training and validation loss\")"
   ]
  },
  {
   "cell_type": "markdown",
   "metadata": {},
   "source": [
    "## Training and Validation accuracy"
   ]
  },
  {
   "cell_type": "code",
   "execution_count": 258,
   "metadata": {},
   "outputs": [
    {
     "data": {
      "text/plain": [
       "Text(0.5, 1.0, 'Training and validation accuracy')"
      ]
     },
     "execution_count": 258,
     "metadata": {},
     "output_type": "execute_result"
    },
    {
     "data": {
      "image/png": "[encoded data removed]",
      "text/plain": [
       "<Figure size 900x500 with 1 Axes>"
      ]
     },
     "metadata": {},
     "output_type": "display_data"
    }
   ],
   "source": [
    "# plot the training and validation accuracy\n",
    "import matplotlib.pyplot as plt\n",
    "plt.figure(figsize=(9, 5))\n",
    "loss_3_values = history_3_dict[\"accuracy\"]\n",
    "val_loss_3_values = history_3_dict[\"val_accuracy\"]\n",
    "epochs_3 = range(1, len(loss_3_values) + 1)\n",
    "plt.plot(epochs_3, loss_3_values, \"bo\", label=\"Training accuracy\")\n",
    "plt.plot(epochs_3, val_loss_3_values, \"ro\", label=\"Validation accuracy\")\n",
    "plt.xlabel(\"Epochs\")\n",
    "plt.xticks(epochs_3)\n",
    "plt.ylabel(\"Accuracy\")\n",
    "plt.legend()\n",
    "plt.title(\"Training and validation accuracy\")"
   ]
  },
  {
   "cell_type": "markdown",
   "metadata": {},
   "source": [
    "## Conclusions\n",
    "\n",
    "**Training & Validation loss**\n",
    "* This model performs well on training and validation data.\n",
    "* For this model loss value is almost similiar in both training and validation data.\n",
    "* We are geting a high difference value between training and validation loss is only at he very last epoch.\n",
    "* The gap between training and validation is very low which indiactes a good model with less loss.\n",
    "\n",
    "**Accuracy**\n",
    "\n",
    "* We are getting high accuracy for both training and validation data.\n",
    "\n",
    "**Weights**\n",
    "\n",
    "* The best set of weights seems to correspond to epoch 24, where val_accuracy is the highest (0.894750) and val_loss is relatively low compared to other epochs (0.316536)."
   ]
  },
  {
   "cell_type": "markdown",
   "metadata": {},
   "source": [
    "**Summarised Conclusion is give below**\n",
    "\n",
    "| Model Name | Highest Val Accuracy | Val_Loss | Epoch |\n",
    "|------------|----------------------|----------|-------|\n",
    "| Model_1    |         0.897417             |   0.332687       |  17     |\n",
    "| Model_2    |      0.895167                |    0.362099       |    18   |\n",
    "| Model_3    |         0.894750      |  .316536        |    24   |\n",
    "\n",
    "\n",
    "\t"
   ]
  },
  {
   "cell_type": "markdown",
   "metadata": {},
   "source": [
    "# Load the saved Model"
   ]
  },
  {
   "cell_type": "code",
   "execution_count": 259,
   "metadata": {},
   "outputs": [],
   "source": [
    "from keras.models import load_model\n",
    "\n",
    "best_model = load_model('best_model.hdf5') "
   ]
  },
  {
   "cell_type": "markdown",
   "metadata": {},
   "source": [
    "# Model Evaluation with best model"
   ]
  },
  {
   "cell_type": "code",
   "execution_count": 260,
   "metadata": {},
   "outputs": [
    {
     "name": "stdout",
     "output_type": "stream",
     "text": [
      "240/240 [==============================] - 1s 2ms/step\n",
      "[2 0 5 ... 5 3 3]\n",
      "Accuracy of the model is 0.894\n"
     ]
    }
   ],
   "source": [
    "# Make predictions\n",
    "y_pred_probs_best = best_model.predict(val_images)\n",
    "\n",
    "# Convert probabilities to class labels\n",
    "y_pred_best = np.argmax(y_pred_probs_best, axis=1)\n",
    "print(y_pred)\n",
    "# Calculate accuracy\n",
    "accuracy_best = accuracy_score(val_labels, y_pred)\n",
    "print(f'Accuracy of the model is {accuracy_best:.3f}')"
   ]
  },
  {
   "cell_type": "markdown",
   "metadata": {},
   "source": [
    "## Precison,Recall & F1 Score for each class"
   ]
  },
  {
   "cell_type": "code",
   "execution_count": 264,
   "metadata": {},
   "outputs": [
    {
     "data": {
      "text/html": [
       "<div>\n",
       "<style scoped>\n",
       "    .dataframe tbody tr th:only-of-type {\n",
       "        vertical-align: middle;\n",
       "    }\n",
       "\n",
       "    .dataframe tbody tr th {\n",
       "        vertical-align: top;\n",
       "    }\n",
       "\n",
       "    .dataframe thead th {\n",
       "        text-align: right;\n",
       "    }\n",
       "</style>\n",
       "<table border=\"1\" class=\"dataframe\">\n",
       "  <thead>\n",
       "    <tr style=\"text-align: right;\">\n",
       "      <th></th>\n",
       "      <th>Class</th>\n",
       "      <th>Precision</th>\n",
       "      <th>Recall</th>\n",
       "      <th>F1-score</th>\n",
       "    </tr>\n",
       "  </thead>\n",
       "  <tbody>\n",
       "    <tr>\n",
       "      <th>0</th>\n",
       "      <td>0.000000</td>\n",
       "      <td>0.875342</td>\n",
       "      <td>0.808861</td>\n",
       "      <td>0.840789</td>\n",
       "    </tr>\n",
       "    <tr>\n",
       "      <th>1</th>\n",
       "      <td>0.003922</td>\n",
       "      <td>0.000000</td>\n",
       "      <td>0.000000</td>\n",
       "      <td>0.000000</td>\n",
       "    </tr>\n",
       "    <tr>\n",
       "      <th>2</th>\n",
       "      <td>0.007843</td>\n",
       "      <td>0.000000</td>\n",
       "      <td>0.000000</td>\n",
       "      <td>0.000000</td>\n",
       "    </tr>\n",
       "    <tr>\n",
       "      <th>3</th>\n",
       "      <td>0.011765</td>\n",
       "      <td>0.000000</td>\n",
       "      <td>0.000000</td>\n",
       "      <td>0.000000</td>\n",
       "    </tr>\n",
       "    <tr>\n",
       "      <th>4</th>\n",
       "      <td>0.015686</td>\n",
       "      <td>0.000000</td>\n",
       "      <td>0.000000</td>\n",
       "      <td>0.000000</td>\n",
       "    </tr>\n",
       "    <tr>\n",
       "      <th>...</th>\n",
       "      <td>...</td>\n",
       "      <td>...</td>\n",
       "      <td>...</td>\n",
       "      <td>...</td>\n",
       "    </tr>\n",
       "    <tr>\n",
       "      <th>251</th>\n",
       "      <td>0.984314</td>\n",
       "      <td>0.000000</td>\n",
       "      <td>0.000000</td>\n",
       "      <td>0.000000</td>\n",
       "    </tr>\n",
       "    <tr>\n",
       "      <th>252</th>\n",
       "      <td>0.988235</td>\n",
       "      <td>0.000000</td>\n",
       "      <td>0.000000</td>\n",
       "      <td>0.000000</td>\n",
       "    </tr>\n",
       "    <tr>\n",
       "      <th>253</th>\n",
       "      <td>0.992157</td>\n",
       "      <td>0.000000</td>\n",
       "      <td>0.000000</td>\n",
       "      <td>0.000000</td>\n",
       "    </tr>\n",
       "    <tr>\n",
       "      <th>254</th>\n",
       "      <td>0.996078</td>\n",
       "      <td>0.000000</td>\n",
       "      <td>0.000000</td>\n",
       "      <td>0.000000</td>\n",
       "    </tr>\n",
       "    <tr>\n",
       "      <th>255</th>\n",
       "      <td>1.000000</td>\n",
       "      <td>0.991003</td>\n",
       "      <td>0.979670</td>\n",
       "      <td>0.985304</td>\n",
       "    </tr>\n",
       "  </tbody>\n",
       "</table>\n",
       "<p>256 rows × 4 columns</p>\n",
       "</div>"
      ],
      "text/plain": [
       "        Class  Precision    Recall  F1-score\n",
       "0    0.000000   0.875342  0.808861  0.840789\n",
       "1    0.003922   0.000000  0.000000  0.000000\n",
       "2    0.007843   0.000000  0.000000  0.000000\n",
       "3    0.011765   0.000000  0.000000  0.000000\n",
       "4    0.015686   0.000000  0.000000  0.000000\n",
       "..        ...        ...       ...       ...\n",
       "251  0.984314   0.000000  0.000000  0.000000\n",
       "252  0.988235   0.000000  0.000000  0.000000\n",
       "253  0.992157   0.000000  0.000000  0.000000\n",
       "254  0.996078   0.000000  0.000000  0.000000\n",
       "255  1.000000   0.991003  0.979670  0.985304\n",
       "\n",
       "[256 rows x 4 columns]"
      ]
     },
     "execution_count": 264,
     "metadata": {},
     "output_type": "execute_result"
    }
   ],
   "source": [
    "import warnings\n",
    "warnings.filterwarnings(\"ignore\")\n",
    "\n",
    "from sklearn.metrics import precision_score, recall_score, f1_score\n",
    "\n",
    "my_class = np.unique(val_images)\n",
    "prec_best = []\n",
    "recall_best = []\n",
    "f1_best= []\n",
    "for i in my_class:\n",
    "    # Filter predictions and labels for the current class\n",
    "    y_cls_pred_best = (y_pred_best == i)\n",
    "    y_cls_true_best = (val_labels == i)\n",
    "    \n",
    "    # Calculate precision, recall, and F1-score for the current class\n",
    "    precision_i_best = precision_score(y_cls_true_best, y_cls_pred_best)\n",
    "    recall_i_best = recall_score(y_cls_true_best, y_cls_pred_best)\n",
    "    f1_i_best = f1_score(y_cls_true_best, y_cls_pred_best)\n",
    "\n",
    "    # Append values to list\n",
    "    prec_best.append(precision_i_best)\n",
    "    recall_best.append(recall_i_best)\n",
    "    f1_best.append(f1_i_best)\n",
    "\n",
    "results = {'Class': my_class, 'Precision': prec_best, 'Recall': recall_best, 'F1-score': f1_best}\n",
    "df_results = pd.DataFrame(results)\n",
    "df_results"
   ]
  },
  {
   "cell_type": "markdown",
   "metadata": {},
   "source": [
    "## Run on Test Set & Conclusion"
   ]
  },
  {
   "cell_type": "code",
   "execution_count": 265,
   "metadata": {},
   "outputs": [
    {
     "name": "stdout",
     "output_type": "stream",
     "text": [
      "313/313 [==============================] - 1s 2ms/step - loss: 0.3343 - accuracy: 0.8809\n",
      "Test Set Accuracy is : 0.881\n"
     ]
    }
   ],
   "source": [
    "test_loss, test_acc = best_model.evaluate(test_images, test_labels)\n",
    "print(f\"Test Set Accuracy is : {test_acc:.3f}\")"
   ]
  },
  {
   "cell_type": "markdown",
   "metadata": {},
   "source": [
    "* We are getting enough accuracy for the selected best model."
   ]
  }
 ],
 "metadata": {
  "kernelspec": {
   "display_name": "tensorflow_cpu",
   "language": "python",
   "name": "tensorflow_cpu"
  },
  "language_info": {
   "codemirror_mode": {
    "name": "ipython",
    "version": 3
   },
   "file_extension": ".py",
   "mimetype": "text/x-python",
   "name": "python",
   "nbconvert_exporter": "python",
   "pygments_lexer": "ipython3",
   "version": "3.11.2"
  }
 },
 "nbformat": 4,
 "nbformat_minor": 2
}
